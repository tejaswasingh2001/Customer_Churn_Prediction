{
  "cells": [
    {
      "cell_type": "code",
      "execution_count": null,
      "id": "ad199ead",
      "metadata": {
        "id": "ad199ead"
      },
      "outputs": [],
      "source": [
        "import numpy as np\n",
        "import pandas as pd\n",
        "import matplotlib.pyplot as plt\n",
        "%matplotlib inline\n",
        "import seaborn as sns\n",
        "import warnings\n",
        "warnings.filterwarnings('ignore')\n",
        "%matplotlib inline\n",
        "%reload_ext autoreload\n",
        "%autoreload 2"
      ]
    },
    {
      "cell_type": "code",
      "source": [
        "from google.colab import drive\n",
        "drive.mount('/content/drive')"
      ],
      "metadata": {
        "colab": {
          "base_uri": "https://localhost:8080/"
        },
        "id": "u6uCXwcdv3wC",
        "outputId": "133f5606-bd67-4c3c-dc26-fd4fd0df190b"
      },
      "id": "u6uCXwcdv3wC",
      "execution_count": null,
      "outputs": [
        {
          "output_type": "stream",
          "name": "stdout",
          "text": [
            "Mounted at /content/drive\n"
          ]
        }
      ]
    },
    {
      "cell_type": "markdown",
      "id": "166133ff",
      "metadata": {
        "id": "166133ff"
      },
      "source": [
        "# Data Reading"
      ]
    },
    {
      "cell_type": "code",
      "execution_count": null,
      "id": "930d8c21",
      "metadata": {
        "id": "930d8c21",
        "outputId": "88c07c36-72c1-45c0-90f7-bb3d6a427e80",
        "colab": {
          "base_uri": "https://localhost:8080/",
          "height": 250
        }
      },
      "outputs": [
        {
          "output_type": "execute_result",
          "data": {
            "text/plain": [
              "   gender            location  partner dependents  senior  Tenure  \\\n",
              "0  Female          Lancashire        0          1       0    20.0   \n",
              "1  Female               Essex        0          1       0     4.0   \n",
              "2  Female               Essex        0    Unknown       1     9.0   \n",
              "3    Male      West Yorkshire        1          1       1     9.0   \n",
              "4    Male  Greater Manchester        0          1       0     6.0   \n",
              "\n",
              "  monthly_cost  package survey     Class  \n",
              "0          NaN        2      0  Churn=No  \n",
              "1          NaN        1      5  Churn=No  \n",
              "2          NaN        2      0  Churn=No  \n",
              "3          NaN        4      9  Churn=No  \n",
              "4          NaN        2      5  Churn=No  "
            ],
            "text/html": [
              "\n",
              "\n",
              "  <div id=\"df-819abd21-c847-4ee0-93b1-f9f6e300897f\">\n",
              "    <div class=\"colab-df-container\">\n",
              "      <div>\n",
              "<style scoped>\n",
              "    .dataframe tbody tr th:only-of-type {\n",
              "        vertical-align: middle;\n",
              "    }\n",
              "\n",
              "    .dataframe tbody tr th {\n",
              "        vertical-align: top;\n",
              "    }\n",
              "\n",
              "    .dataframe thead th {\n",
              "        text-align: right;\n",
              "    }\n",
              "</style>\n",
              "<table border=\"1\" class=\"dataframe\">\n",
              "  <thead>\n",
              "    <tr style=\"text-align: right;\">\n",
              "      <th></th>\n",
              "      <th>gender</th>\n",
              "      <th>location</th>\n",
              "      <th>partner</th>\n",
              "      <th>dependents</th>\n",
              "      <th>senior</th>\n",
              "      <th>Tenure</th>\n",
              "      <th>monthly_cost</th>\n",
              "      <th>package</th>\n",
              "      <th>survey</th>\n",
              "      <th>Class</th>\n",
              "    </tr>\n",
              "  </thead>\n",
              "  <tbody>\n",
              "    <tr>\n",
              "      <th>0</th>\n",
              "      <td>Female</td>\n",
              "      <td>Lancashire</td>\n",
              "      <td>0</td>\n",
              "      <td>1</td>\n",
              "      <td>0</td>\n",
              "      <td>20.0</td>\n",
              "      <td>NaN</td>\n",
              "      <td>2</td>\n",
              "      <td>0</td>\n",
              "      <td>Churn=No</td>\n",
              "    </tr>\n",
              "    <tr>\n",
              "      <th>1</th>\n",
              "      <td>Female</td>\n",
              "      <td>Essex</td>\n",
              "      <td>0</td>\n",
              "      <td>1</td>\n",
              "      <td>0</td>\n",
              "      <td>4.0</td>\n",
              "      <td>NaN</td>\n",
              "      <td>1</td>\n",
              "      <td>5</td>\n",
              "      <td>Churn=No</td>\n",
              "    </tr>\n",
              "    <tr>\n",
              "      <th>2</th>\n",
              "      <td>Female</td>\n",
              "      <td>Essex</td>\n",
              "      <td>0</td>\n",
              "      <td>Unknown</td>\n",
              "      <td>1</td>\n",
              "      <td>9.0</td>\n",
              "      <td>NaN</td>\n",
              "      <td>2</td>\n",
              "      <td>0</td>\n",
              "      <td>Churn=No</td>\n",
              "    </tr>\n",
              "    <tr>\n",
              "      <th>3</th>\n",
              "      <td>Male</td>\n",
              "      <td>West Yorkshire</td>\n",
              "      <td>1</td>\n",
              "      <td>1</td>\n",
              "      <td>1</td>\n",
              "      <td>9.0</td>\n",
              "      <td>NaN</td>\n",
              "      <td>4</td>\n",
              "      <td>9</td>\n",
              "      <td>Churn=No</td>\n",
              "    </tr>\n",
              "    <tr>\n",
              "      <th>4</th>\n",
              "      <td>Male</td>\n",
              "      <td>Greater Manchester</td>\n",
              "      <td>0</td>\n",
              "      <td>1</td>\n",
              "      <td>0</td>\n",
              "      <td>6.0</td>\n",
              "      <td>NaN</td>\n",
              "      <td>2</td>\n",
              "      <td>5</td>\n",
              "      <td>Churn=No</td>\n",
              "    </tr>\n",
              "  </tbody>\n",
              "</table>\n",
              "</div>\n",
              "      <button class=\"colab-df-convert\" onclick=\"convertToInteractive('df-819abd21-c847-4ee0-93b1-f9f6e300897f')\"\n",
              "              title=\"Convert this dataframe to an interactive table.\"\n",
              "              style=\"display:none;\">\n",
              "\n",
              "  <svg xmlns=\"http://www.w3.org/2000/svg\" height=\"24px\"viewBox=\"0 0 24 24\"\n",
              "       width=\"24px\">\n",
              "    <path d=\"M0 0h24v24H0V0z\" fill=\"none\"/>\n",
              "    <path d=\"M18.56 5.44l.94 2.06.94-2.06 2.06-.94-2.06-.94-.94-2.06-.94 2.06-2.06.94zm-11 1L8.5 8.5l.94-2.06 2.06-.94-2.06-.94L8.5 2.5l-.94 2.06-2.06.94zm10 10l.94 2.06.94-2.06 2.06-.94-2.06-.94-.94-2.06-.94 2.06-2.06.94z\"/><path d=\"M17.41 7.96l-1.37-1.37c-.4-.4-.92-.59-1.43-.59-.52 0-1.04.2-1.43.59L10.3 9.45l-7.72 7.72c-.78.78-.78 2.05 0 2.83L4 21.41c.39.39.9.59 1.41.59.51 0 1.02-.2 1.41-.59l7.78-7.78 2.81-2.81c.8-.78.8-2.07 0-2.86zM5.41 20L4 18.59l7.72-7.72 1.47 1.35L5.41 20z\"/>\n",
              "  </svg>\n",
              "      </button>\n",
              "\n",
              "\n",
              "\n",
              "    <div id=\"df-f5722537-09c0-44f9-94ad-85409373ba44\">\n",
              "      <button class=\"colab-df-quickchart\" onclick=\"quickchart('df-f5722537-09c0-44f9-94ad-85409373ba44')\"\n",
              "              title=\"Suggest charts.\"\n",
              "              style=\"display:none;\">\n",
              "\n",
              "<svg xmlns=\"http://www.w3.org/2000/svg\" height=\"24px\"viewBox=\"0 0 24 24\"\n",
              "     width=\"24px\">\n",
              "    <g>\n",
              "        <path d=\"M19 3H5c-1.1 0-2 .9-2 2v14c0 1.1.9 2 2 2h14c1.1 0 2-.9 2-2V5c0-1.1-.9-2-2-2zM9 17H7v-7h2v7zm4 0h-2V7h2v10zm4 0h-2v-4h2v4z\"/>\n",
              "    </g>\n",
              "</svg>\n",
              "      </button>\n",
              "    </div>\n",
              "\n",
              "<style>\n",
              "  .colab-df-quickchart {\n",
              "    background-color: #E8F0FE;\n",
              "    border: none;\n",
              "    border-radius: 50%;\n",
              "    cursor: pointer;\n",
              "    display: none;\n",
              "    fill: #1967D2;\n",
              "    height: 32px;\n",
              "    padding: 0 0 0 0;\n",
              "    width: 32px;\n",
              "  }\n",
              "\n",
              "  .colab-df-quickchart:hover {\n",
              "    background-color: #E2EBFA;\n",
              "    box-shadow: 0px 1px 2px rgba(60, 64, 67, 0.3), 0px 1px 3px 1px rgba(60, 64, 67, 0.15);\n",
              "    fill: #174EA6;\n",
              "  }\n",
              "\n",
              "  [theme=dark] .colab-df-quickchart {\n",
              "    background-color: #3B4455;\n",
              "    fill: #D2E3FC;\n",
              "  }\n",
              "\n",
              "  [theme=dark] .colab-df-quickchart:hover {\n",
              "    background-color: #434B5C;\n",
              "    box-shadow: 0px 1px 3px 1px rgba(0, 0, 0, 0.15);\n",
              "    filter: drop-shadow(0px 1px 2px rgba(0, 0, 0, 0.3));\n",
              "    fill: #FFFFFF;\n",
              "  }\n",
              "</style>\n",
              "\n",
              "    <script>\n",
              "      async function quickchart(key) {\n",
              "        const containerElement = document.querySelector('#' + key);\n",
              "        const charts = await google.colab.kernel.invokeFunction(\n",
              "            'suggestCharts', [key], {});\n",
              "      }\n",
              "    </script>\n",
              "\n",
              "      <script>\n",
              "\n",
              "function displayQuickchartButton(domScope) {\n",
              "  let quickchartButtonEl =\n",
              "    domScope.querySelector('#df-f5722537-09c0-44f9-94ad-85409373ba44 button.colab-df-quickchart');\n",
              "  quickchartButtonEl.style.display =\n",
              "    google.colab.kernel.accessAllowed ? 'block' : 'none';\n",
              "}\n",
              "\n",
              "        displayQuickchartButton(document);\n",
              "      </script>\n",
              "      <style>\n",
              "    .colab-df-container {\n",
              "      display:flex;\n",
              "      flex-wrap:wrap;\n",
              "      gap: 12px;\n",
              "    }\n",
              "\n",
              "    .colab-df-convert {\n",
              "      background-color: #E8F0FE;\n",
              "      border: none;\n",
              "      border-radius: 50%;\n",
              "      cursor: pointer;\n",
              "      display: none;\n",
              "      fill: #1967D2;\n",
              "      height: 32px;\n",
              "      padding: 0 0 0 0;\n",
              "      width: 32px;\n",
              "    }\n",
              "\n",
              "    .colab-df-convert:hover {\n",
              "      background-color: #E2EBFA;\n",
              "      box-shadow: 0px 1px 2px rgba(60, 64, 67, 0.3), 0px 1px 3px 1px rgba(60, 64, 67, 0.15);\n",
              "      fill: #174EA6;\n",
              "    }\n",
              "\n",
              "    [theme=dark] .colab-df-convert {\n",
              "      background-color: #3B4455;\n",
              "      fill: #D2E3FC;\n",
              "    }\n",
              "\n",
              "    [theme=dark] .colab-df-convert:hover {\n",
              "      background-color: #434B5C;\n",
              "      box-shadow: 0px 1px 3px 1px rgba(0, 0, 0, 0.15);\n",
              "      filter: drop-shadow(0px 1px 2px rgba(0, 0, 0, 0.3));\n",
              "      fill: #FFFFFF;\n",
              "    }\n",
              "  </style>\n",
              "\n",
              "      <script>\n",
              "        const buttonEl =\n",
              "          document.querySelector('#df-819abd21-c847-4ee0-93b1-f9f6e300897f button.colab-df-convert');\n",
              "        buttonEl.style.display =\n",
              "          google.colab.kernel.accessAllowed ? 'block' : 'none';\n",
              "\n",
              "        async function convertToInteractive(key) {\n",
              "          const element = document.querySelector('#df-819abd21-c847-4ee0-93b1-f9f6e300897f');\n",
              "          const dataTable =\n",
              "            await google.colab.kernel.invokeFunction('convertToInteractive',\n",
              "                                                     [key], {});\n",
              "          if (!dataTable) return;\n",
              "\n",
              "          const docLinkHtml = 'Like what you see? Visit the ' +\n",
              "            '<a target=\"_blank\" href=https://colab.research.google.com/notebooks/data_table.ipynb>data table notebook</a>'\n",
              "            + ' to learn more about interactive tables.';\n",
              "          element.innerHTML = '';\n",
              "          dataTable['output_type'] = 'display_data';\n",
              "          await google.colab.output.renderOutput(dataTable, element);\n",
              "          const docLink = document.createElement('div');\n",
              "          docLink.innerHTML = docLinkHtml;\n",
              "          element.appendChild(docLink);\n",
              "        }\n",
              "      </script>\n",
              "    </div>\n",
              "  </div>\n"
            ]
          },
          "metadata": {},
          "execution_count": 4
        }
      ],
      "source": [
        "#Loading Dataset in python\n",
        "missing_values = [\"Unknown\", \"No reply\", \"NaN\"]\n",
        "df = pd.read_csv('/content/drive/MyDrive/Dataset/Group 1.csv')\n",
        "df=df.iloc[:,1:]\n",
        "df.head()"
      ]
    },
    {
      "cell_type": "markdown",
      "id": "b9995cda",
      "metadata": {
        "id": "b9995cda"
      },
      "source": [
        "# 1. Data Prepration"
      ]
    },
    {
      "cell_type": "code",
      "execution_count": null,
      "id": "eef4868b",
      "metadata": {
        "id": "eef4868b",
        "outputId": "cbaa94d3-11eb-4a8b-c3c3-f2d8b3057e1c",
        "colab": {
          "base_uri": "https://localhost:8080/"
        }
      },
      "outputs": [
        {
          "output_type": "stream",
          "name": "stdout",
          "text": [
            "Column: gender - Unique Values: ['Female' 'Male']\n",
            "Column: location - Unique Values: ['Lancashire' 'Essex' 'West Yorkshire' 'Greater Manchester'\n",
            " 'West Midlands' 'Greater London' 'Merseyside' 'Hertfordshire' 'Devon'\n",
            " 'North Yorkshire' 'Hampshire' 'Kent' 'Surrey' 'Staffordshire'\n",
            " 'South Yorkshire' 'Nottinghamshire' 'Tyne and Wear']\n",
            "Column: partner - Unique Values: [0 1]\n",
            "Column: dependents - Unique Values: ['1' 'Unknown' '0']\n",
            "Column: senior - Unique Values: [0 1]\n",
            "Column: Tenure - Unique Values: [20.          4.          9.          6.          1.          8.\n",
            " 10.         22.          0.          2.          7.          3.\n",
            " 11.         23.         17.         12.         16.         18.\n",
            " 24.         13.         15.          5.         14.         19.\n",
            " 21.         -1.41421356 26.         -3.         -2.23606798 -2.82842713\n",
            " -4.47213595 -4.69041576 -3.60555127 25.         -4.         -4.79583152\n",
            " -3.87298335 -5.19615242 -4.24264069 -4.35889894 -3.31662479 -2.\n",
            " 27.         29.         -2.44948974 -1.         -3.16227766 -2.64575131\n",
            " -3.46410162 28.         -4.12310563 -3.74165739 -5.         -4.5825757\n",
            " -5.09901951 -1.73205081 30.        ]\n",
            "Column: monthly_cost - Unique Values: [nan '$38772' '$34429' '$36272' '$42490' '$26408' '$38222' '$40630'\n",
            " '$31084' '$35355' '$32200' '$28448' '$36527' '$43232' '$31926' '$23229'\n",
            " '$23309' '$38931' '36.9' '$20579' '$35438' '$43611' '$34574' '$22608'\n",
            " '$39547' '$25851' '$22979' '$23340' '$41717' '$35891' '$31465' '$39361'\n",
            " '$44283' '$29603' '$20788' '$24853' '$30111' '$44711' '$42284' '$19956'\n",
            " '$31124' '$40535' '$30966' '$36896' '$41845' '$41459' '$22092' '$37071'\n",
            " '$24586' '$43986' '$40842' '$27112' '$29411' '$23851' '$25434' '$23099'\n",
            " '$24524' '$31837' '$42410' '$36506' '$24414' '$20400' '$21728' '$27198'\n",
            " '$27955' '$34222' '$43994' '$32907' '$39101' '$30563' '$35256' '$38237'\n",
            " '$33103' '$20785' '$29676' '$42800' '$27564']\n",
            "Column: package - Unique Values: [2 1 4 3]\n",
            "Column: survey - Unique Values: ['0' '5' '9' '2' '8' '7' '6' '1' 'No reply' '4' '3' '10']\n",
            "Column: Class - Unique Values: ['Churn=No' 'Churn=Yes' nan 'Y$e$s$$']\n"
          ]
        }
      ],
      "source": [
        "# check unique values of each column\n",
        "for column in df.columns:\n",
        "    print('Column: {} - Unique Values: {}'.format(column, df[column].unique()))"
      ]
    },
    {
      "cell_type": "code",
      "execution_count": null,
      "id": "cf6bfd3f",
      "metadata": {
        "id": "cf6bfd3f",
        "outputId": "9643df7c-2aef-4090-fd2b-d7b5fe06068f",
        "colab": {
          "base_uri": "https://localhost:8080/"
        }
      },
      "outputs": [
        {
          "output_type": "stream",
          "name": "stdout",
          "text": [
            "<class 'pandas.core.frame.DataFrame'>\n",
            "RangeIndex: 7350 entries, 0 to 7349\n",
            "Data columns (total 10 columns):\n",
            " #   Column        Non-Null Count  Dtype  \n",
            "---  ------        --------------  -----  \n",
            " 0   gender        7350 non-null   object \n",
            " 1   location      7350 non-null   object \n",
            " 2   partner       7350 non-null   int64  \n",
            " 3   dependents    7350 non-null   object \n",
            " 4   senior        7350 non-null   int64  \n",
            " 5   Tenure        7350 non-null   float64\n",
            " 6   monthly_cost  79 non-null     object \n",
            " 7   package       7350 non-null   int64  \n",
            " 8   survey        7350 non-null   object \n",
            " 9   Class         7291 non-null   object \n",
            "dtypes: float64(1), int64(3), object(6)\n",
            "memory usage: 574.3+ KB\n"
          ]
        }
      ],
      "source": [
        "# summary of the data frame\n",
        "df.info()"
      ]
    },
    {
      "cell_type": "code",
      "execution_count": null,
      "id": "923c282a",
      "metadata": {
        "id": "923c282a"
      },
      "outputs": [],
      "source": [
        "#Replacing monthly cost column values $ with blank\n",
        "df.monthly_cost= df.monthly_cost.str.replace('$', '')\n",
        "# Replacing values < 0 of Tenure column to 0\n",
        "df.Tenure[df['Tenure'] < 0] = 0"
      ]
    },
    {
      "cell_type": "code",
      "execution_count": null,
      "id": "ba445631",
      "metadata": {
        "id": "ba445631",
        "outputId": "2ee06167-f050-4ae5-9084-02feb32c12fd",
        "colab": {
          "base_uri": "https://localhost:8080/"
        }
      },
      "outputs": [
        {
          "output_type": "execute_result",
          "data": {
            "text/plain": [
              "gender             0\n",
              "location           0\n",
              "partner            0\n",
              "dependents         0\n",
              "senior             0\n",
              "Tenure             0\n",
              "monthly_cost    7271\n",
              "package            0\n",
              "survey             0\n",
              "Class             59\n",
              "dtype: int64"
            ]
          },
          "metadata": {},
          "execution_count": 9
        }
      ],
      "source": [
        "#Checking columns which have null values\n",
        "df.isnull().sum()"
      ]
    },
    {
      "cell_type": "code",
      "execution_count": null,
      "id": "b374242e",
      "metadata": {
        "id": "b374242e",
        "outputId": "ee41cd61-ab19-4c89-9515-d724d4eacec6",
        "colab": {
          "base_uri": "https://localhost:8080/",
          "height": 433
        }
      },
      "outputs": [
        {
          "output_type": "error",
          "ename": "TypeError",
          "evalue": "ignored",
          "traceback": [
            "\u001b[0;31m---------------------------------------------------------------------------\u001b[0m",
            "\u001b[0;31mValueError\u001b[0m                                Traceback (most recent call last)",
            "\u001b[0;32m/usr/local/lib/python3.10/dist-packages/pandas/core/nanops.py\u001b[0m in \u001b[0;36mnanmedian\u001b[0;34m(values, axis, skipna, mask)\u001b[0m\n\u001b[1;32m    759\u001b[0m         \u001b[0;32mtry\u001b[0m\u001b[0;34m:\u001b[0m\u001b[0;34m\u001b[0m\u001b[0;34m\u001b[0m\u001b[0m\n\u001b[0;32m--> 760\u001b[0;31m             \u001b[0mvalues\u001b[0m \u001b[0;34m=\u001b[0m \u001b[0mvalues\u001b[0m\u001b[0;34m.\u001b[0m\u001b[0mastype\u001b[0m\u001b[0;34m(\u001b[0m\u001b[0;34m\"f8\"\u001b[0m\u001b[0;34m)\u001b[0m\u001b[0;34m\u001b[0m\u001b[0;34m\u001b[0m\u001b[0m\n\u001b[0m\u001b[1;32m    761\u001b[0m         \u001b[0;32mexcept\u001b[0m \u001b[0mValueError\u001b[0m \u001b[0;32mas\u001b[0m \u001b[0merr\u001b[0m\u001b[0;34m:\u001b[0m\u001b[0;34m\u001b[0m\u001b[0;34m\u001b[0m\u001b[0m\n",
            "\u001b[0;31mValueError\u001b[0m: could not convert string to float: 'No reply'",
            "\nThe above exception was the direct cause of the following exception:\n",
            "\u001b[0;31mTypeError\u001b[0m                                 Traceback (most recent call last)",
            "\u001b[0;32m<ipython-input-10-6edc2f71cbf8>\u001b[0m in \u001b[0;36m<cell line: 2>\u001b[0;34m()\u001b[0m\n\u001b[1;32m      1\u001b[0m \u001b[0;31m# imputing survey and dependents column using median\u001b[0m\u001b[0;34m\u001b[0m\u001b[0;34m\u001b[0m\u001b[0m\n\u001b[0;32m----> 2\u001b[0;31m \u001b[0mmedian\u001b[0m \u001b[0;34m=\u001b[0m \u001b[0mdf\u001b[0m\u001b[0;34m[\u001b[0m\u001b[0;34m'survey'\u001b[0m\u001b[0;34m]\u001b[0m\u001b[0;34m.\u001b[0m\u001b[0mmedian\u001b[0m\u001b[0;34m(\u001b[0m\u001b[0;34m)\u001b[0m\u001b[0;34m\u001b[0m\u001b[0;34m\u001b[0m\u001b[0m\n\u001b[0m\u001b[1;32m      3\u001b[0m \u001b[0mdf\u001b[0m\u001b[0;34m[\u001b[0m\u001b[0;34m'survey'\u001b[0m\u001b[0;34m]\u001b[0m\u001b[0;34m.\u001b[0m\u001b[0mfillna\u001b[0m\u001b[0;34m(\u001b[0m\u001b[0mmedian\u001b[0m\u001b[0;34m,\u001b[0m \u001b[0minplace\u001b[0m\u001b[0;34m=\u001b[0m\u001b[0;32mTrue\u001b[0m\u001b[0;34m)\u001b[0m\u001b[0;34m\u001b[0m\u001b[0;34m\u001b[0m\u001b[0m\n\u001b[1;32m      4\u001b[0m \u001b[0mmediand\u001b[0m \u001b[0;34m=\u001b[0m \u001b[0mdf\u001b[0m\u001b[0;34m[\u001b[0m\u001b[0;34m'dependents'\u001b[0m\u001b[0;34m]\u001b[0m\u001b[0;34m.\u001b[0m\u001b[0mmedian\u001b[0m\u001b[0;34m(\u001b[0m\u001b[0;34m)\u001b[0m\u001b[0;34m\u001b[0m\u001b[0;34m\u001b[0m\u001b[0m\n\u001b[1;32m      5\u001b[0m \u001b[0mdf\u001b[0m\u001b[0;34m[\u001b[0m\u001b[0;34m'dependents'\u001b[0m\u001b[0;34m]\u001b[0m\u001b[0;34m.\u001b[0m\u001b[0mfillna\u001b[0m\u001b[0;34m(\u001b[0m\u001b[0mmediand\u001b[0m\u001b[0;34m,\u001b[0m \u001b[0minplace\u001b[0m\u001b[0;34m=\u001b[0m\u001b[0;32mTrue\u001b[0m\u001b[0;34m)\u001b[0m\u001b[0;34m\u001b[0m\u001b[0;34m\u001b[0m\u001b[0m\n",
            "\u001b[0;32m/usr/local/lib/python3.10/dist-packages/pandas/core/generic.py\u001b[0m in \u001b[0;36mmedian\u001b[0;34m(self, axis, skipna, level, numeric_only, **kwargs)\u001b[0m\n\u001b[1;32m  11915\u001b[0m             \u001b[0;34m**\u001b[0m\u001b[0mkwargs\u001b[0m\u001b[0;34m,\u001b[0m\u001b[0;34m\u001b[0m\u001b[0;34m\u001b[0m\u001b[0m\n\u001b[1;32m  11916\u001b[0m         ):\n\u001b[0;32m> 11917\u001b[0;31m             \u001b[0;32mreturn\u001b[0m \u001b[0mNDFrame\u001b[0m\u001b[0;34m.\u001b[0m\u001b[0mmedian\u001b[0m\u001b[0;34m(\u001b[0m\u001b[0mself\u001b[0m\u001b[0;34m,\u001b[0m \u001b[0maxis\u001b[0m\u001b[0;34m,\u001b[0m \u001b[0mskipna\u001b[0m\u001b[0;34m,\u001b[0m \u001b[0mlevel\u001b[0m\u001b[0;34m,\u001b[0m \u001b[0mnumeric_only\u001b[0m\u001b[0;34m,\u001b[0m \u001b[0;34m**\u001b[0m\u001b[0mkwargs\u001b[0m\u001b[0;34m)\u001b[0m\u001b[0;34m\u001b[0m\u001b[0;34m\u001b[0m\u001b[0m\n\u001b[0m\u001b[1;32m  11918\u001b[0m \u001b[0;34m\u001b[0m\u001b[0m\n\u001b[1;32m  11919\u001b[0m         \u001b[0msetattr\u001b[0m\u001b[0;34m(\u001b[0m\u001b[0mcls\u001b[0m\u001b[0;34m,\u001b[0m \u001b[0;34m\"median\"\u001b[0m\u001b[0;34m,\u001b[0m \u001b[0mmedian\u001b[0m\u001b[0;34m)\u001b[0m\u001b[0;34m\u001b[0m\u001b[0;34m\u001b[0m\u001b[0m\n",
            "\u001b[0;32m/usr/local/lib/python3.10/dist-packages/pandas/core/generic.py\u001b[0m in \u001b[0;36mmedian\u001b[0;34m(self, axis, skipna, level, numeric_only, **kwargs)\u001b[0m\n\u001b[1;32m  11411\u001b[0m         \u001b[0;34m**\u001b[0m\u001b[0mkwargs\u001b[0m\u001b[0;34m,\u001b[0m\u001b[0;34m\u001b[0m\u001b[0;34m\u001b[0m\u001b[0m\n\u001b[1;32m  11412\u001b[0m     ) -> Series | float:\n\u001b[0;32m> 11413\u001b[0;31m         return self._stat_function(\n\u001b[0m\u001b[1;32m  11414\u001b[0m             \u001b[0;34m\"median\"\u001b[0m\u001b[0;34m,\u001b[0m \u001b[0mnanops\u001b[0m\u001b[0;34m.\u001b[0m\u001b[0mnanmedian\u001b[0m\u001b[0;34m,\u001b[0m \u001b[0maxis\u001b[0m\u001b[0;34m,\u001b[0m \u001b[0mskipna\u001b[0m\u001b[0;34m,\u001b[0m \u001b[0mlevel\u001b[0m\u001b[0;34m,\u001b[0m \u001b[0mnumeric_only\u001b[0m\u001b[0;34m,\u001b[0m \u001b[0;34m**\u001b[0m\u001b[0mkwargs\u001b[0m\u001b[0;34m\u001b[0m\u001b[0;34m\u001b[0m\u001b[0m\n\u001b[1;32m  11415\u001b[0m         )\n",
            "\u001b[0;32m/usr/local/lib/python3.10/dist-packages/pandas/core/generic.py\u001b[0m in \u001b[0;36m_stat_function\u001b[0;34m(self, name, func, axis, skipna, level, numeric_only, **kwargs)\u001b[0m\n\u001b[1;32m  11351\u001b[0m                 \u001b[0mname\u001b[0m\u001b[0;34m,\u001b[0m \u001b[0maxis\u001b[0m\u001b[0;34m=\u001b[0m\u001b[0maxis\u001b[0m\u001b[0;34m,\u001b[0m \u001b[0mlevel\u001b[0m\u001b[0;34m=\u001b[0m\u001b[0mlevel\u001b[0m\u001b[0;34m,\u001b[0m \u001b[0mskipna\u001b[0m\u001b[0;34m=\u001b[0m\u001b[0mskipna\u001b[0m\u001b[0;34m,\u001b[0m \u001b[0mnumeric_only\u001b[0m\u001b[0;34m=\u001b[0m\u001b[0mnumeric_only\u001b[0m\u001b[0;34m\u001b[0m\u001b[0;34m\u001b[0m\u001b[0m\n\u001b[1;32m  11352\u001b[0m             )\n\u001b[0;32m> 11353\u001b[0;31m         return self._reduce(\n\u001b[0m\u001b[1;32m  11354\u001b[0m             \u001b[0mfunc\u001b[0m\u001b[0;34m,\u001b[0m \u001b[0mname\u001b[0m\u001b[0;34m=\u001b[0m\u001b[0mname\u001b[0m\u001b[0;34m,\u001b[0m \u001b[0maxis\u001b[0m\u001b[0;34m=\u001b[0m\u001b[0maxis\u001b[0m\u001b[0;34m,\u001b[0m \u001b[0mskipna\u001b[0m\u001b[0;34m=\u001b[0m\u001b[0mskipna\u001b[0m\u001b[0;34m,\u001b[0m \u001b[0mnumeric_only\u001b[0m\u001b[0;34m=\u001b[0m\u001b[0mnumeric_only\u001b[0m\u001b[0;34m\u001b[0m\u001b[0;34m\u001b[0m\u001b[0m\n\u001b[1;32m  11355\u001b[0m         )\n",
            "\u001b[0;32m/usr/local/lib/python3.10/dist-packages/pandas/core/series.py\u001b[0m in \u001b[0;36m_reduce\u001b[0;34m(self, op, name, axis, skipna, numeric_only, filter_type, **kwds)\u001b[0m\n\u001b[1;32m   4814\u001b[0m                 )\n\u001b[1;32m   4815\u001b[0m             \u001b[0;32mwith\u001b[0m \u001b[0mnp\u001b[0m\u001b[0;34m.\u001b[0m\u001b[0merrstate\u001b[0m\u001b[0;34m(\u001b[0m\u001b[0mall\u001b[0m\u001b[0;34m=\u001b[0m\u001b[0;34m\"ignore\"\u001b[0m\u001b[0;34m)\u001b[0m\u001b[0;34m:\u001b[0m\u001b[0;34m\u001b[0m\u001b[0;34m\u001b[0m\u001b[0m\n\u001b[0;32m-> 4816\u001b[0;31m                 \u001b[0;32mreturn\u001b[0m \u001b[0mop\u001b[0m\u001b[0;34m(\u001b[0m\u001b[0mdelegate\u001b[0m\u001b[0;34m,\u001b[0m \u001b[0mskipna\u001b[0m\u001b[0;34m=\u001b[0m\u001b[0mskipna\u001b[0m\u001b[0;34m,\u001b[0m \u001b[0;34m**\u001b[0m\u001b[0mkwds\u001b[0m\u001b[0;34m)\u001b[0m\u001b[0;34m\u001b[0m\u001b[0;34m\u001b[0m\u001b[0m\n\u001b[0m\u001b[1;32m   4817\u001b[0m \u001b[0;34m\u001b[0m\u001b[0m\n\u001b[1;32m   4818\u001b[0m     def _reindex_indexer(\n",
            "\u001b[0;32m/usr/local/lib/python3.10/dist-packages/pandas/core/nanops.py\u001b[0m in \u001b[0;36mf\u001b[0;34m(values, axis, skipna, **kwds)\u001b[0m\n\u001b[1;32m    153\u001b[0m                     \u001b[0mresult\u001b[0m \u001b[0;34m=\u001b[0m \u001b[0malt\u001b[0m\u001b[0;34m(\u001b[0m\u001b[0mvalues\u001b[0m\u001b[0;34m,\u001b[0m \u001b[0maxis\u001b[0m\u001b[0;34m=\u001b[0m\u001b[0maxis\u001b[0m\u001b[0;34m,\u001b[0m \u001b[0mskipna\u001b[0m\u001b[0;34m=\u001b[0m\u001b[0mskipna\u001b[0m\u001b[0;34m,\u001b[0m \u001b[0;34m**\u001b[0m\u001b[0mkwds\u001b[0m\u001b[0;34m)\u001b[0m\u001b[0;34m\u001b[0m\u001b[0;34m\u001b[0m\u001b[0m\n\u001b[1;32m    154\u001b[0m             \u001b[0;32melse\u001b[0m\u001b[0;34m:\u001b[0m\u001b[0;34m\u001b[0m\u001b[0;34m\u001b[0m\u001b[0m\n\u001b[0;32m--> 155\u001b[0;31m                 \u001b[0mresult\u001b[0m \u001b[0;34m=\u001b[0m \u001b[0malt\u001b[0m\u001b[0;34m(\u001b[0m\u001b[0mvalues\u001b[0m\u001b[0;34m,\u001b[0m \u001b[0maxis\u001b[0m\u001b[0;34m=\u001b[0m\u001b[0maxis\u001b[0m\u001b[0;34m,\u001b[0m \u001b[0mskipna\u001b[0m\u001b[0;34m=\u001b[0m\u001b[0mskipna\u001b[0m\u001b[0;34m,\u001b[0m \u001b[0;34m**\u001b[0m\u001b[0mkwds\u001b[0m\u001b[0;34m)\u001b[0m\u001b[0;34m\u001b[0m\u001b[0;34m\u001b[0m\u001b[0m\n\u001b[0m\u001b[1;32m    156\u001b[0m \u001b[0;34m\u001b[0m\u001b[0m\n\u001b[1;32m    157\u001b[0m             \u001b[0;32mreturn\u001b[0m \u001b[0mresult\u001b[0m\u001b[0;34m\u001b[0m\u001b[0;34m\u001b[0m\u001b[0m\n",
            "\u001b[0;32m/usr/local/lib/python3.10/dist-packages/pandas/core/nanops.py\u001b[0m in \u001b[0;36mnanmedian\u001b[0;34m(values, axis, skipna, mask)\u001b[0m\n\u001b[1;32m    761\u001b[0m         \u001b[0;32mexcept\u001b[0m \u001b[0mValueError\u001b[0m \u001b[0;32mas\u001b[0m \u001b[0merr\u001b[0m\u001b[0;34m:\u001b[0m\u001b[0;34m\u001b[0m\u001b[0;34m\u001b[0m\u001b[0m\n\u001b[1;32m    762\u001b[0m             \u001b[0;31m# e.g. \"could not convert string to float: 'a'\"\u001b[0m\u001b[0;34m\u001b[0m\u001b[0;34m\u001b[0m\u001b[0m\n\u001b[0;32m--> 763\u001b[0;31m             \u001b[0;32mraise\u001b[0m \u001b[0mTypeError\u001b[0m\u001b[0;34m(\u001b[0m\u001b[0mstr\u001b[0m\u001b[0;34m(\u001b[0m\u001b[0merr\u001b[0m\u001b[0;34m)\u001b[0m\u001b[0;34m)\u001b[0m \u001b[0;32mfrom\u001b[0m \u001b[0merr\u001b[0m\u001b[0;34m\u001b[0m\u001b[0;34m\u001b[0m\u001b[0m\n\u001b[0m\u001b[1;32m    764\u001b[0m         \u001b[0;32mif\u001b[0m \u001b[0mmask\u001b[0m \u001b[0;32mis\u001b[0m \u001b[0;32mnot\u001b[0m \u001b[0;32mNone\u001b[0m\u001b[0;34m:\u001b[0m\u001b[0;34m\u001b[0m\u001b[0;34m\u001b[0m\u001b[0m\n\u001b[1;32m    765\u001b[0m             \u001b[0mvalues\u001b[0m\u001b[0;34m[\u001b[0m\u001b[0mmask\u001b[0m\u001b[0;34m]\u001b[0m \u001b[0;34m=\u001b[0m \u001b[0mnp\u001b[0m\u001b[0;34m.\u001b[0m\u001b[0mnan\u001b[0m\u001b[0;34m\u001b[0m\u001b[0;34m\u001b[0m\u001b[0m\n",
            "\u001b[0;31mTypeError\u001b[0m: could not convert string to float: 'No reply'"
          ]
        }
      ],
      "source": [
        "# imputing survey and dependents column using median\n",
        "median = df['survey'].median()\n",
        "df['survey'].fillna(median, inplace=True)\n",
        "mediand = df['dependents'].median()\n",
        "df['dependents'].fillna(mediand, inplace=True)\n"
      ]
    },
    {
      "cell_type": "code",
      "execution_count": null,
      "id": "85ea77fe",
      "metadata": {
        "id": "85ea77fe",
        "outputId": "8de24475-39e1-409d-c49c-50a292d17515",
        "colab": {
          "base_uri": "https://localhost:8080/",
          "height": 381
        }
      },
      "outputs": [
        {
          "output_type": "error",
          "ename": "ValueError",
          "evalue": "ignored",
          "traceback": [
            "\u001b[0;31m---------------------------------------------------------------------------\u001b[0m",
            "\u001b[0;31mValueError\u001b[0m                                Traceback (most recent call last)",
            "\u001b[0;32m<ipython-input-11-47318d2ac306>\u001b[0m in \u001b[0;36m<cell line: 2>\u001b[0;34m()\u001b[0m\n\u001b[1;32m      1\u001b[0m \u001b[0;31m# converting suitable datatypes\u001b[0m\u001b[0;34m\u001b[0m\u001b[0;34m\u001b[0m\u001b[0m\n\u001b[0;32m----> 2\u001b[0;31m \u001b[0mdf\u001b[0m\u001b[0;34m[\u001b[0m\u001b[0;34m'survey'\u001b[0m\u001b[0;34m]\u001b[0m\u001b[0;34m=\u001b[0m\u001b[0mdf\u001b[0m\u001b[0;34m[\u001b[0m\u001b[0;34m'survey'\u001b[0m\u001b[0;34m]\u001b[0m\u001b[0;34m.\u001b[0m\u001b[0mastype\u001b[0m\u001b[0;34m(\u001b[0m\u001b[0mint\u001b[0m\u001b[0;34m)\u001b[0m\u001b[0;34m\u001b[0m\u001b[0;34m\u001b[0m\u001b[0m\n\u001b[0m\u001b[1;32m      3\u001b[0m \u001b[0mdf\u001b[0m\u001b[0;34m[\u001b[0m\u001b[0;34m'dependents'\u001b[0m\u001b[0;34m]\u001b[0m\u001b[0;34m=\u001b[0m\u001b[0mdf\u001b[0m\u001b[0;34m[\u001b[0m\u001b[0;34m'dependents'\u001b[0m\u001b[0;34m]\u001b[0m\u001b[0;34m.\u001b[0m\u001b[0mastype\u001b[0m\u001b[0;34m(\u001b[0m\u001b[0mint\u001b[0m\u001b[0;34m)\u001b[0m\u001b[0;34m\u001b[0m\u001b[0;34m\u001b[0m\u001b[0m\n\u001b[1;32m      4\u001b[0m \u001b[0mdf\u001b[0m\u001b[0;34m[\u001b[0m\u001b[0;34m'Tenure'\u001b[0m\u001b[0;34m]\u001b[0m\u001b[0;34m=\u001b[0m\u001b[0mdf\u001b[0m\u001b[0;34m[\u001b[0m\u001b[0;34m'Tenure'\u001b[0m\u001b[0;34m]\u001b[0m\u001b[0;34m.\u001b[0m\u001b[0mastype\u001b[0m\u001b[0;34m(\u001b[0m\u001b[0mint\u001b[0m\u001b[0;34m)\u001b[0m\u001b[0;34m\u001b[0m\u001b[0;34m\u001b[0m\u001b[0m\n\u001b[1;32m      5\u001b[0m \u001b[0;31m# replacing class column values to 0 and 1 and imputing values\u001b[0m\u001b[0;34m\u001b[0m\u001b[0;34m\u001b[0m\u001b[0m\n",
            "\u001b[0;32m/usr/local/lib/python3.10/dist-packages/pandas/core/generic.py\u001b[0m in \u001b[0;36mastype\u001b[0;34m(self, dtype, copy, errors)\u001b[0m\n\u001b[1;32m   6238\u001b[0m         \u001b[0;32melse\u001b[0m\u001b[0;34m:\u001b[0m\u001b[0;34m\u001b[0m\u001b[0;34m\u001b[0m\u001b[0m\n\u001b[1;32m   6239\u001b[0m             \u001b[0;31m# else, only a single dtype is given\u001b[0m\u001b[0;34m\u001b[0m\u001b[0;34m\u001b[0m\u001b[0m\n\u001b[0;32m-> 6240\u001b[0;31m             \u001b[0mnew_data\u001b[0m \u001b[0;34m=\u001b[0m \u001b[0mself\u001b[0m\u001b[0;34m.\u001b[0m\u001b[0m_mgr\u001b[0m\u001b[0;34m.\u001b[0m\u001b[0mastype\u001b[0m\u001b[0;34m(\u001b[0m\u001b[0mdtype\u001b[0m\u001b[0;34m=\u001b[0m\u001b[0mdtype\u001b[0m\u001b[0;34m,\u001b[0m \u001b[0mcopy\u001b[0m\u001b[0;34m=\u001b[0m\u001b[0mcopy\u001b[0m\u001b[0;34m,\u001b[0m \u001b[0merrors\u001b[0m\u001b[0;34m=\u001b[0m\u001b[0merrors\u001b[0m\u001b[0;34m)\u001b[0m\u001b[0;34m\u001b[0m\u001b[0;34m\u001b[0m\u001b[0m\n\u001b[0m\u001b[1;32m   6241\u001b[0m             \u001b[0;32mreturn\u001b[0m \u001b[0mself\u001b[0m\u001b[0;34m.\u001b[0m\u001b[0m_constructor\u001b[0m\u001b[0;34m(\u001b[0m\u001b[0mnew_data\u001b[0m\u001b[0;34m)\u001b[0m\u001b[0;34m.\u001b[0m\u001b[0m__finalize__\u001b[0m\u001b[0;34m(\u001b[0m\u001b[0mself\u001b[0m\u001b[0;34m,\u001b[0m \u001b[0mmethod\u001b[0m\u001b[0;34m=\u001b[0m\u001b[0;34m\"astype\"\u001b[0m\u001b[0;34m)\u001b[0m\u001b[0;34m\u001b[0m\u001b[0;34m\u001b[0m\u001b[0m\n\u001b[1;32m   6242\u001b[0m \u001b[0;34m\u001b[0m\u001b[0m\n",
            "\u001b[0;32m/usr/local/lib/python3.10/dist-packages/pandas/core/internals/managers.py\u001b[0m in \u001b[0;36mastype\u001b[0;34m(self, dtype, copy, errors)\u001b[0m\n\u001b[1;32m    446\u001b[0m \u001b[0;34m\u001b[0m\u001b[0m\n\u001b[1;32m    447\u001b[0m     \u001b[0;32mdef\u001b[0m \u001b[0mastype\u001b[0m\u001b[0;34m(\u001b[0m\u001b[0mself\u001b[0m\u001b[0;34m:\u001b[0m \u001b[0mT\u001b[0m\u001b[0;34m,\u001b[0m \u001b[0mdtype\u001b[0m\u001b[0;34m,\u001b[0m \u001b[0mcopy\u001b[0m\u001b[0;34m:\u001b[0m \u001b[0mbool\u001b[0m \u001b[0;34m=\u001b[0m \u001b[0;32mFalse\u001b[0m\u001b[0;34m,\u001b[0m \u001b[0merrors\u001b[0m\u001b[0;34m:\u001b[0m \u001b[0mstr\u001b[0m \u001b[0;34m=\u001b[0m \u001b[0;34m\"raise\"\u001b[0m\u001b[0;34m)\u001b[0m \u001b[0;34m->\u001b[0m \u001b[0mT\u001b[0m\u001b[0;34m:\u001b[0m\u001b[0;34m\u001b[0m\u001b[0;34m\u001b[0m\u001b[0m\n\u001b[0;32m--> 448\u001b[0;31m         \u001b[0;32mreturn\u001b[0m \u001b[0mself\u001b[0m\u001b[0;34m.\u001b[0m\u001b[0mapply\u001b[0m\u001b[0;34m(\u001b[0m\u001b[0;34m\"astype\"\u001b[0m\u001b[0;34m,\u001b[0m \u001b[0mdtype\u001b[0m\u001b[0;34m=\u001b[0m\u001b[0mdtype\u001b[0m\u001b[0;34m,\u001b[0m \u001b[0mcopy\u001b[0m\u001b[0;34m=\u001b[0m\u001b[0mcopy\u001b[0m\u001b[0;34m,\u001b[0m \u001b[0merrors\u001b[0m\u001b[0;34m=\u001b[0m\u001b[0merrors\u001b[0m\u001b[0;34m)\u001b[0m\u001b[0;34m\u001b[0m\u001b[0;34m\u001b[0m\u001b[0m\n\u001b[0m\u001b[1;32m    449\u001b[0m \u001b[0;34m\u001b[0m\u001b[0m\n\u001b[1;32m    450\u001b[0m     def convert(\n",
            "\u001b[0;32m/usr/local/lib/python3.10/dist-packages/pandas/core/internals/managers.py\u001b[0m in \u001b[0;36mapply\u001b[0;34m(self, f, align_keys, ignore_failures, **kwargs)\u001b[0m\n\u001b[1;32m    350\u001b[0m                     \u001b[0mapplied\u001b[0m \u001b[0;34m=\u001b[0m \u001b[0mb\u001b[0m\u001b[0;34m.\u001b[0m\u001b[0mapply\u001b[0m\u001b[0;34m(\u001b[0m\u001b[0mf\u001b[0m\u001b[0;34m,\u001b[0m \u001b[0;34m**\u001b[0m\u001b[0mkwargs\u001b[0m\u001b[0;34m)\u001b[0m\u001b[0;34m\u001b[0m\u001b[0;34m\u001b[0m\u001b[0m\n\u001b[1;32m    351\u001b[0m                 \u001b[0;32melse\u001b[0m\u001b[0;34m:\u001b[0m\u001b[0;34m\u001b[0m\u001b[0;34m\u001b[0m\u001b[0m\n\u001b[0;32m--> 352\u001b[0;31m                     \u001b[0mapplied\u001b[0m \u001b[0;34m=\u001b[0m \u001b[0mgetattr\u001b[0m\u001b[0;34m(\u001b[0m\u001b[0mb\u001b[0m\u001b[0;34m,\u001b[0m \u001b[0mf\u001b[0m\u001b[0;34m)\u001b[0m\u001b[0;34m(\u001b[0m\u001b[0;34m**\u001b[0m\u001b[0mkwargs\u001b[0m\u001b[0;34m)\u001b[0m\u001b[0;34m\u001b[0m\u001b[0;34m\u001b[0m\u001b[0m\n\u001b[0m\u001b[1;32m    353\u001b[0m             \u001b[0;32mexcept\u001b[0m \u001b[0;34m(\u001b[0m\u001b[0mTypeError\u001b[0m\u001b[0;34m,\u001b[0m \u001b[0mNotImplementedError\u001b[0m\u001b[0;34m)\u001b[0m\u001b[0;34m:\u001b[0m\u001b[0;34m\u001b[0m\u001b[0;34m\u001b[0m\u001b[0m\n\u001b[1;32m    354\u001b[0m                 \u001b[0;32mif\u001b[0m \u001b[0;32mnot\u001b[0m \u001b[0mignore_failures\u001b[0m\u001b[0;34m:\u001b[0m\u001b[0;34m\u001b[0m\u001b[0;34m\u001b[0m\u001b[0m\n",
            "\u001b[0;32m/usr/local/lib/python3.10/dist-packages/pandas/core/internals/blocks.py\u001b[0m in \u001b[0;36mastype\u001b[0;34m(self, dtype, copy, errors)\u001b[0m\n\u001b[1;32m    524\u001b[0m         \u001b[0mvalues\u001b[0m \u001b[0;34m=\u001b[0m \u001b[0mself\u001b[0m\u001b[0;34m.\u001b[0m\u001b[0mvalues\u001b[0m\u001b[0;34m\u001b[0m\u001b[0;34m\u001b[0m\u001b[0m\n\u001b[1;32m    525\u001b[0m \u001b[0;34m\u001b[0m\u001b[0m\n\u001b[0;32m--> 526\u001b[0;31m         \u001b[0mnew_values\u001b[0m \u001b[0;34m=\u001b[0m \u001b[0mastype_array_safe\u001b[0m\u001b[0;34m(\u001b[0m\u001b[0mvalues\u001b[0m\u001b[0;34m,\u001b[0m \u001b[0mdtype\u001b[0m\u001b[0;34m,\u001b[0m \u001b[0mcopy\u001b[0m\u001b[0;34m=\u001b[0m\u001b[0mcopy\u001b[0m\u001b[0;34m,\u001b[0m \u001b[0merrors\u001b[0m\u001b[0;34m=\u001b[0m\u001b[0merrors\u001b[0m\u001b[0;34m)\u001b[0m\u001b[0;34m\u001b[0m\u001b[0;34m\u001b[0m\u001b[0m\n\u001b[0m\u001b[1;32m    527\u001b[0m \u001b[0;34m\u001b[0m\u001b[0m\n\u001b[1;32m    528\u001b[0m         \u001b[0mnew_values\u001b[0m \u001b[0;34m=\u001b[0m \u001b[0mmaybe_coerce_values\u001b[0m\u001b[0;34m(\u001b[0m\u001b[0mnew_values\u001b[0m\u001b[0;34m)\u001b[0m\u001b[0;34m\u001b[0m\u001b[0;34m\u001b[0m\u001b[0m\n",
            "\u001b[0;32m/usr/local/lib/python3.10/dist-packages/pandas/core/dtypes/astype.py\u001b[0m in \u001b[0;36mastype_array_safe\u001b[0;34m(values, dtype, copy, errors)\u001b[0m\n\u001b[1;32m    297\u001b[0m \u001b[0;34m\u001b[0m\u001b[0m\n\u001b[1;32m    298\u001b[0m     \u001b[0;32mtry\u001b[0m\u001b[0;34m:\u001b[0m\u001b[0;34m\u001b[0m\u001b[0;34m\u001b[0m\u001b[0m\n\u001b[0;32m--> 299\u001b[0;31m         \u001b[0mnew_values\u001b[0m \u001b[0;34m=\u001b[0m \u001b[0mastype_array\u001b[0m\u001b[0;34m(\u001b[0m\u001b[0mvalues\u001b[0m\u001b[0;34m,\u001b[0m \u001b[0mdtype\u001b[0m\u001b[0;34m,\u001b[0m \u001b[0mcopy\u001b[0m\u001b[0;34m=\u001b[0m\u001b[0mcopy\u001b[0m\u001b[0;34m)\u001b[0m\u001b[0;34m\u001b[0m\u001b[0;34m\u001b[0m\u001b[0m\n\u001b[0m\u001b[1;32m    300\u001b[0m     \u001b[0;32mexcept\u001b[0m \u001b[0;34m(\u001b[0m\u001b[0mValueError\u001b[0m\u001b[0;34m,\u001b[0m \u001b[0mTypeError\u001b[0m\u001b[0;34m)\u001b[0m\u001b[0;34m:\u001b[0m\u001b[0;34m\u001b[0m\u001b[0;34m\u001b[0m\u001b[0m\n\u001b[1;32m    301\u001b[0m         \u001b[0;31m# e.g. astype_nansafe can fail on object-dtype of strings\u001b[0m\u001b[0;34m\u001b[0m\u001b[0;34m\u001b[0m\u001b[0m\n",
            "\u001b[0;32m/usr/local/lib/python3.10/dist-packages/pandas/core/dtypes/astype.py\u001b[0m in \u001b[0;36mastype_array\u001b[0;34m(values, dtype, copy)\u001b[0m\n\u001b[1;32m    228\u001b[0m \u001b[0;34m\u001b[0m\u001b[0m\n\u001b[1;32m    229\u001b[0m     \u001b[0;32melse\u001b[0m\u001b[0;34m:\u001b[0m\u001b[0;34m\u001b[0m\u001b[0;34m\u001b[0m\u001b[0m\n\u001b[0;32m--> 230\u001b[0;31m         \u001b[0mvalues\u001b[0m \u001b[0;34m=\u001b[0m \u001b[0mastype_nansafe\u001b[0m\u001b[0;34m(\u001b[0m\u001b[0mvalues\u001b[0m\u001b[0;34m,\u001b[0m \u001b[0mdtype\u001b[0m\u001b[0;34m,\u001b[0m \u001b[0mcopy\u001b[0m\u001b[0;34m=\u001b[0m\u001b[0mcopy\u001b[0m\u001b[0;34m)\u001b[0m\u001b[0;34m\u001b[0m\u001b[0;34m\u001b[0m\u001b[0m\n\u001b[0m\u001b[1;32m    231\u001b[0m \u001b[0;34m\u001b[0m\u001b[0m\n\u001b[1;32m    232\u001b[0m     \u001b[0;31m# in pandas we don't store numpy str dtypes, so convert to object\u001b[0m\u001b[0;34m\u001b[0m\u001b[0;34m\u001b[0m\u001b[0m\n",
            "\u001b[0;32m/usr/local/lib/python3.10/dist-packages/pandas/core/dtypes/astype.py\u001b[0m in \u001b[0;36mastype_nansafe\u001b[0;34m(arr, dtype, copy, skipna)\u001b[0m\n\u001b[1;32m    168\u001b[0m     \u001b[0;32mif\u001b[0m \u001b[0mcopy\u001b[0m \u001b[0;32mor\u001b[0m \u001b[0mis_object_dtype\u001b[0m\u001b[0;34m(\u001b[0m\u001b[0marr\u001b[0m\u001b[0;34m.\u001b[0m\u001b[0mdtype\u001b[0m\u001b[0;34m)\u001b[0m \u001b[0;32mor\u001b[0m \u001b[0mis_object_dtype\u001b[0m\u001b[0;34m(\u001b[0m\u001b[0mdtype\u001b[0m\u001b[0;34m)\u001b[0m\u001b[0;34m:\u001b[0m\u001b[0;34m\u001b[0m\u001b[0;34m\u001b[0m\u001b[0m\n\u001b[1;32m    169\u001b[0m         \u001b[0;31m# Explicit copy, or required since NumPy can't view from / to object.\u001b[0m\u001b[0;34m\u001b[0m\u001b[0;34m\u001b[0m\u001b[0m\n\u001b[0;32m--> 170\u001b[0;31m         \u001b[0;32mreturn\u001b[0m \u001b[0marr\u001b[0m\u001b[0;34m.\u001b[0m\u001b[0mastype\u001b[0m\u001b[0;34m(\u001b[0m\u001b[0mdtype\u001b[0m\u001b[0;34m,\u001b[0m \u001b[0mcopy\u001b[0m\u001b[0;34m=\u001b[0m\u001b[0;32mTrue\u001b[0m\u001b[0;34m)\u001b[0m\u001b[0;34m\u001b[0m\u001b[0;34m\u001b[0m\u001b[0m\n\u001b[0m\u001b[1;32m    171\u001b[0m \u001b[0;34m\u001b[0m\u001b[0m\n\u001b[1;32m    172\u001b[0m     \u001b[0;32mreturn\u001b[0m \u001b[0marr\u001b[0m\u001b[0;34m.\u001b[0m\u001b[0mastype\u001b[0m\u001b[0;34m(\u001b[0m\u001b[0mdtype\u001b[0m\u001b[0;34m,\u001b[0m \u001b[0mcopy\u001b[0m\u001b[0;34m=\u001b[0m\u001b[0mcopy\u001b[0m\u001b[0;34m)\u001b[0m\u001b[0;34m\u001b[0m\u001b[0;34m\u001b[0m\u001b[0m\n",
            "\u001b[0;31mValueError\u001b[0m: invalid literal for int() with base 10: 'No reply'"
          ]
        }
      ],
      "source": [
        "# converting suitable datatypes\n",
        "df['survey']=df['survey'].astype(int)\n",
        "df['dependents']=df['dependents'].astype(int)\n",
        "df['Tenure']=df['Tenure'].astype(int)\n",
        "# replacing class column values to 0 and 1 and imputing values\n",
        "df = df.replace({'Class': {'Churn=Yes': 1, 'Churn=No': 0,'Y$e$s$$': 1}})\n",
        "medianc = df['Class'].median()\n",
        "df['Class'].fillna(mediand, inplace=True)\n",
        "df['Class']=df['Class'].astype(int)\n",
        "# replacing gender column values to 0 or 1\n",
        "df = df.replace({'gender': {'Female': 1, 'Male': 0}})\n",
        "df['gender']=df['gender'].astype(int)\n",
        "# converting location string values to integer numbers\n",
        "df = df.replace({'location': {'Lancashire': 1, 'Essex': 2,'West Yorkshire': 3,'Greater Manchester':4,\n",
        "                              'West Midlands':5,'West Midlands':6, 'Greater London':7,'Merseyside':8,\n",
        "                              'Hertfordshire':9, 'Devon':10,'North Yorkshire':11, 'Hampshire':12,\n",
        "                              'Kent':13, 'Surrey':14, 'Staffordshire':15,'South Yorkshire':16,\n",
        "                              'Nottinghamshire':17, 'Tyne and Wear':18}})\n",
        "df.isnull().sum()"
      ]
    },
    {
      "cell_type": "code",
      "execution_count": null,
      "id": "53cf7f35",
      "metadata": {
        "id": "53cf7f35",
        "outputId": "492468b4-e01a-4f07-81c0-0c9cc8daca18"
      },
      "outputs": [
        {
          "data": {
            "text/html": [
              "<div>\n",
              "<style scoped>\n",
              "    .dataframe tbody tr th:only-of-type {\n",
              "        vertical-align: middle;\n",
              "    }\n",
              "\n",
              "    .dataframe tbody tr th {\n",
              "        vertical-align: top;\n",
              "    }\n",
              "\n",
              "    .dataframe thead th {\n",
              "        text-align: right;\n",
              "    }\n",
              "</style>\n",
              "<table border=\"1\" class=\"dataframe\">\n",
              "  <thead>\n",
              "    <tr style=\"text-align: right;\">\n",
              "      <th></th>\n",
              "      <th>customer_id</th>\n",
              "      <th>gender</th>\n",
              "      <th>location</th>\n",
              "      <th>partner</th>\n",
              "      <th>dependents</th>\n",
              "      <th>senior</th>\n",
              "      <th>Tenure</th>\n",
              "      <th>package</th>\n",
              "      <th>survey</th>\n",
              "      <th>Class</th>\n",
              "    </tr>\n",
              "  </thead>\n",
              "  <tbody>\n",
              "    <tr>\n",
              "      <th>0</th>\n",
              "      <td>G1606</td>\n",
              "      <td>1</td>\n",
              "      <td>1</td>\n",
              "      <td>0</td>\n",
              "      <td>1</td>\n",
              "      <td>0</td>\n",
              "      <td>20</td>\n",
              "      <td>2</td>\n",
              "      <td>0</td>\n",
              "      <td>0</td>\n",
              "    </tr>\n",
              "    <tr>\n",
              "      <th>1</th>\n",
              "      <td>F8889</td>\n",
              "      <td>1</td>\n",
              "      <td>2</td>\n",
              "      <td>0</td>\n",
              "      <td>1</td>\n",
              "      <td>0</td>\n",
              "      <td>4</td>\n",
              "      <td>1</td>\n",
              "      <td>5</td>\n",
              "      <td>0</td>\n",
              "    </tr>\n",
              "    <tr>\n",
              "      <th>2</th>\n",
              "      <td>C5068</td>\n",
              "      <td>1</td>\n",
              "      <td>2</td>\n",
              "      <td>0</td>\n",
              "      <td>1</td>\n",
              "      <td>1</td>\n",
              "      <td>9</td>\n",
              "      <td>2</td>\n",
              "      <td>0</td>\n",
              "      <td>0</td>\n",
              "    </tr>\n",
              "    <tr>\n",
              "      <th>3</th>\n",
              "      <td>G9820</td>\n",
              "      <td>0</td>\n",
              "      <td>3</td>\n",
              "      <td>1</td>\n",
              "      <td>1</td>\n",
              "      <td>1</td>\n",
              "      <td>9</td>\n",
              "      <td>4</td>\n",
              "      <td>9</td>\n",
              "      <td>0</td>\n",
              "    </tr>\n",
              "    <tr>\n",
              "      <th>4</th>\n",
              "      <td>H7261</td>\n",
              "      <td>0</td>\n",
              "      <td>4</td>\n",
              "      <td>0</td>\n",
              "      <td>1</td>\n",
              "      <td>0</td>\n",
              "      <td>6</td>\n",
              "      <td>2</td>\n",
              "      <td>5</td>\n",
              "      <td>0</td>\n",
              "    </tr>\n",
              "  </tbody>\n",
              "</table>\n",
              "</div>"
            ],
            "text/plain": [
              "  customer_id  gender  location  partner  dependents  senior  Tenure  package  \\\n",
              "0       G1606       1         1        0           1       0      20        2   \n",
              "1       F8889       1         2        0           1       0       4        1   \n",
              "2       C5068       1         2        0           1       1       9        2   \n",
              "3       G9820       0         3        1           1       1       9        4   \n",
              "4       H7261       0         4        0           1       0       6        2   \n",
              "\n",
              "   survey  Class  \n",
              "0       0      0  \n",
              "1       5      0  \n",
              "2       0      0  \n",
              "3       9      0  \n",
              "4       5      0  "
            ]
          },
          "execution_count": 1069,
          "metadata": {},
          "output_type": "execute_result"
        }
      ],
      "source": [
        "# dropping monthly cost column\n",
        "df.drop(['monthly_cost'], axis = 1, inplace = True)\n",
        "df.head(5)"
      ]
    },
    {
      "cell_type": "code",
      "execution_count": null,
      "id": "c2ae6e72",
      "metadata": {
        "id": "c2ae6e72",
        "outputId": "d0be71a4-3b18-41cc-daef-9df4affb0ea6"
      },
      "outputs": [
        {
          "data": {
            "text/html": [
              "<div>\n",
              "<style scoped>\n",
              "    .dataframe tbody tr th:only-of-type {\n",
              "        vertical-align: middle;\n",
              "    }\n",
              "\n",
              "    .dataframe tbody tr th {\n",
              "        vertical-align: top;\n",
              "    }\n",
              "\n",
              "    .dataframe thead th {\n",
              "        text-align: right;\n",
              "    }\n",
              "</style>\n",
              "<table border=\"1\" class=\"dataframe\">\n",
              "  <thead>\n",
              "    <tr style=\"text-align: right;\">\n",
              "      <th></th>\n",
              "      <th>customer_id</th>\n",
              "      <th>gender</th>\n",
              "      <th>location</th>\n",
              "      <th>partner</th>\n",
              "      <th>dependents</th>\n",
              "      <th>senior</th>\n",
              "      <th>Tenure</th>\n",
              "      <th>package</th>\n",
              "      <th>survey</th>\n",
              "      <th>Class</th>\n",
              "    </tr>\n",
              "  </thead>\n",
              "  <tbody>\n",
              "    <tr>\n",
              "      <th>0</th>\n",
              "      <td>G1606</td>\n",
              "      <td>1</td>\n",
              "      <td>1</td>\n",
              "      <td>0</td>\n",
              "      <td>1</td>\n",
              "      <td>0</td>\n",
              "      <td>20</td>\n",
              "      <td>2</td>\n",
              "      <td>0</td>\n",
              "      <td>0</td>\n",
              "    </tr>\n",
              "    <tr>\n",
              "      <th>1</th>\n",
              "      <td>F8889</td>\n",
              "      <td>1</td>\n",
              "      <td>2</td>\n",
              "      <td>0</td>\n",
              "      <td>1</td>\n",
              "      <td>0</td>\n",
              "      <td>4</td>\n",
              "      <td>1</td>\n",
              "      <td>5</td>\n",
              "      <td>0</td>\n",
              "    </tr>\n",
              "    <tr>\n",
              "      <th>2</th>\n",
              "      <td>C5068</td>\n",
              "      <td>1</td>\n",
              "      <td>2</td>\n",
              "      <td>0</td>\n",
              "      <td>1</td>\n",
              "      <td>1</td>\n",
              "      <td>9</td>\n",
              "      <td>2</td>\n",
              "      <td>0</td>\n",
              "      <td>0</td>\n",
              "    </tr>\n",
              "    <tr>\n",
              "      <th>3</th>\n",
              "      <td>G9820</td>\n",
              "      <td>0</td>\n",
              "      <td>3</td>\n",
              "      <td>1</td>\n",
              "      <td>1</td>\n",
              "      <td>1</td>\n",
              "      <td>9</td>\n",
              "      <td>4</td>\n",
              "      <td>9</td>\n",
              "      <td>0</td>\n",
              "    </tr>\n",
              "    <tr>\n",
              "      <th>4</th>\n",
              "      <td>H7261</td>\n",
              "      <td>0</td>\n",
              "      <td>4</td>\n",
              "      <td>0</td>\n",
              "      <td>1</td>\n",
              "      <td>0</td>\n",
              "      <td>6</td>\n",
              "      <td>2</td>\n",
              "      <td>5</td>\n",
              "      <td>0</td>\n",
              "    </tr>\n",
              "  </tbody>\n",
              "</table>\n",
              "</div>"
            ],
            "text/plain": [
              "  customer_id  gender  location  partner  dependents  senior  Tenure  package  \\\n",
              "0       G1606       1         1        0           1       0      20        2   \n",
              "1       F8889       1         2        0           1       0       4        1   \n",
              "2       C5068       1         2        0           1       1       9        2   \n",
              "3       G9820       0         3        1           1       1       9        4   \n",
              "4       H7261       0         4        0           1       0       6        2   \n",
              "\n",
              "   survey  Class  \n",
              "0       0      0  \n",
              "1       5      0  \n",
              "2       0      0  \n",
              "3       9      0  \n",
              "4       5      0  "
            ]
          },
          "execution_count": 1070,
          "metadata": {},
          "output_type": "execute_result"
        }
      ],
      "source": [
        "# get distinct values of the dataframe based on column customer_id\n",
        "df = df.drop_duplicates(subset = [\"customer_id\"])\n",
        "df.head()"
      ]
    },
    {
      "cell_type": "code",
      "execution_count": null,
      "id": "124fa330",
      "metadata": {
        "id": "124fa330",
        "outputId": "65fd59e7-7183-4c2a-ab92-86171b3a8231"
      },
      "outputs": [
        {
          "data": {
            "text/html": [
              "<div>\n",
              "<style scoped>\n",
              "    .dataframe tbody tr th:only-of-type {\n",
              "        vertical-align: middle;\n",
              "    }\n",
              "\n",
              "    .dataframe tbody tr th {\n",
              "        vertical-align: top;\n",
              "    }\n",
              "\n",
              "    .dataframe thead th {\n",
              "        text-align: right;\n",
              "    }\n",
              "</style>\n",
              "<table border=\"1\" class=\"dataframe\">\n",
              "  <thead>\n",
              "    <tr style=\"text-align: right;\">\n",
              "      <th></th>\n",
              "      <th>customer_id</th>\n",
              "      <th>gender</th>\n",
              "      <th>location</th>\n",
              "      <th>partner</th>\n",
              "      <th>dependents</th>\n",
              "      <th>senior</th>\n",
              "      <th>Tenure</th>\n",
              "      <th>package</th>\n",
              "      <th>survey</th>\n",
              "      <th>Class</th>\n",
              "      <th>monthly_cost</th>\n",
              "    </tr>\n",
              "  </thead>\n",
              "  <tbody>\n",
              "    <tr>\n",
              "      <th>0</th>\n",
              "      <td>G1606</td>\n",
              "      <td>1</td>\n",
              "      <td>1</td>\n",
              "      <td>0</td>\n",
              "      <td>1</td>\n",
              "      <td>0</td>\n",
              "      <td>20</td>\n",
              "      <td>2</td>\n",
              "      <td>0</td>\n",
              "      <td>0</td>\n",
              "      <td>20.40</td>\n",
              "    </tr>\n",
              "    <tr>\n",
              "      <th>1</th>\n",
              "      <td>F8889</td>\n",
              "      <td>1</td>\n",
              "      <td>2</td>\n",
              "      <td>0</td>\n",
              "      <td>1</td>\n",
              "      <td>0</td>\n",
              "      <td>4</td>\n",
              "      <td>1</td>\n",
              "      <td>5</td>\n",
              "      <td>0</td>\n",
              "      <td>23.92</td>\n",
              "    </tr>\n",
              "    <tr>\n",
              "      <th>2</th>\n",
              "      <td>C5068</td>\n",
              "      <td>1</td>\n",
              "      <td>2</td>\n",
              "      <td>0</td>\n",
              "      <td>1</td>\n",
              "      <td>1</td>\n",
              "      <td>9</td>\n",
              "      <td>2</td>\n",
              "      <td>0</td>\n",
              "      <td>0</td>\n",
              "      <td>27.88</td>\n",
              "    </tr>\n",
              "    <tr>\n",
              "      <th>3</th>\n",
              "      <td>G9820</td>\n",
              "      <td>0</td>\n",
              "      <td>3</td>\n",
              "      <td>1</td>\n",
              "      <td>1</td>\n",
              "      <td>1</td>\n",
              "      <td>9</td>\n",
              "      <td>4</td>\n",
              "      <td>9</td>\n",
              "      <td>0</td>\n",
              "      <td>41.00</td>\n",
              "    </tr>\n",
              "    <tr>\n",
              "      <th>4</th>\n",
              "      <td>H7261</td>\n",
              "      <td>0</td>\n",
              "      <td>4</td>\n",
              "      <td>0</td>\n",
              "      <td>1</td>\n",
              "      <td>0</td>\n",
              "      <td>6</td>\n",
              "      <td>2</td>\n",
              "      <td>5</td>\n",
              "      <td>0</td>\n",
              "      <td>29.92</td>\n",
              "    </tr>\n",
              "  </tbody>\n",
              "</table>\n",
              "</div>"
            ],
            "text/plain": [
              "  customer_id  gender  location  partner  dependents  senior  Tenure  package  \\\n",
              "0       G1606       1         1        0           1       0      20        2   \n",
              "1       F8889       1         2        0           1       0       4        1   \n",
              "2       C5068       1         2        0           1       1       9        2   \n",
              "3       G9820       0         3        1           1       1       9        4   \n",
              "4       H7261       0         4        0           1       0       6        2   \n",
              "\n",
              "   survey  Class  monthly_cost  \n",
              "0       0      0         20.40  \n",
              "1       5      0         23.92  \n",
              "2       0      0         27.88  \n",
              "3       9      0         41.00  \n",
              "4       5      0         29.92  "
            ]
          },
          "execution_count": 1071,
          "metadata": {},
          "output_type": "execute_result"
        }
      ],
      "source": [
        "# caculating monthly_cost column\n",
        "df['cost'] = df['Tenure'].apply(lambda x: 50 if x>25 else 2*x)\n",
        "df['cost1'] = df['package'].apply(lambda x: 26 if x==1 else 0)\n",
        "df['cost2'] = df['package'].apply(lambda x: 34 if x==2 else 0)\n",
        "df['cost3'] = df['package'].apply(lambda x: 40 if x==3 else 0)\n",
        "df['cost4'] = df['package'].apply(lambda x: 50 if x==4 else 0)\n",
        "df['total']=df['cost1']+df['cost2']+df['cost3']+df['cost4']\n",
        "df['monthly_cost']=df['total']-((df['total']*df['cost'])/100)\n",
        "df.drop(['cost','cost1','cost2','cost3','cost4','total'], axis = 1, inplace = True)\n",
        "df.head(5)"
      ]
    },
    {
      "cell_type": "code",
      "execution_count": null,
      "id": "bccad8bc",
      "metadata": {
        "id": "bccad8bc",
        "outputId": "68aa208a-6c9e-4816-ac2c-5657411f380d"
      },
      "outputs": [
        {
          "data": {
            "text/plain": [
              "(6770, 11)"
            ]
          },
          "execution_count": 1072,
          "metadata": {},
          "output_type": "execute_result"
        }
      ],
      "source": [
        "df.shape"
      ]
    },
    {
      "cell_type": "markdown",
      "id": "77e3269d",
      "metadata": {
        "id": "77e3269d"
      },
      "source": [
        "# 2. EDA"
      ]
    },
    {
      "cell_type": "code",
      "execution_count": null,
      "id": "5f295cee",
      "metadata": {
        "id": "5f295cee",
        "outputId": "828197f1-e141-47b8-f83f-27f5a72de04f"
      },
      "outputs": [
        {
          "name": "stdout",
          "output_type": "stream",
          "text": [
            "0    4787\n",
            "1    1983\n",
            "Name: Class, dtype: int64\n"
          ]
        },
        {
          "data": {
            "text/plain": [
              "Text(0.5, 1.0, 'Target Variable \"Class\" Distribution')"
            ]
          },
          "execution_count": 1073,
          "metadata": {},
          "output_type": "execute_result"
        },
        {
          "data": {
            "image/png": "[encoded data removed]",
            "text/plain": [
              "<Figure size 432x288 with 1 Axes>"
            ]
          },
          "metadata": {
            "needs_background": "light"
          },
          "output_type": "display_data"
        }
      ],
      "source": [
        "print(df.Class.value_counts())\n",
        "sns.countplot('Class', data=df, palette=\"Set2\").set_title('Target Variable \"Class\" Distribution')"
      ]
    },
    {
      "cell_type": "markdown",
      "id": "97f73835",
      "metadata": {
        "id": "97f73835"
      },
      "source": [
        "Now, we will see how many binary catagorical columns we have"
      ]
    },
    {
      "cell_type": "code",
      "execution_count": null,
      "id": "612ef1f2",
      "metadata": {
        "id": "612ef1f2",
        "outputId": "e8847493-fe96-49c0-9008-637fb3dd3dff"
      },
      "outputs": [
        {
          "data": {
            "text/plain": [
              "['gender', 'partner', 'dependents', 'senior', 'Class']"
            ]
          },
          "execution_count": 1074,
          "metadata": {},
          "output_type": "execute_result"
        }
      ],
      "source": [
        "columns = df.columns\n",
        "binary_cols = []\n",
        "for col in columns:\n",
        "    if df[col].value_counts().shape[0] == 2:\n",
        "        binary_cols.append(col)\n",
        "binary_cols"
      ]
    },
    {
      "cell_type": "code",
      "execution_count": null,
      "id": "a73cbf85",
      "metadata": {
        "id": "a73cbf85",
        "outputId": "7529e44f-c376-486c-8824-f7f6eb5aa857"
      },
      "outputs": [
        {
          "data": {
            "text/plain": [
              "<AxesSubplot:xlabel='senior', ylabel='count'>"
            ]
          },
          "execution_count": 1075,
          "metadata": {},
          "output_type": "execute_result"
        },
        {
          "data": {
            "image/png": "[encoded data removed]",
            "text/plain": [
              "<Figure size 864x504 with 4 Axes>"
            ]
          },
          "metadata": {
            "needs_background": "light"
          },
          "output_type": "display_data"
        }
      ],
      "source": [
        "fig, axes = plt.subplots(2, 2, figsize=(12, 7), sharey=True)\n",
        "sns.countplot(\"gender\", data=df, ax=axes[0,0],palette=\"Set2\")\n",
        "sns.countplot(\"partner\", data=df, ax=axes[0,1],palette=\"Set2\")\n",
        "sns.countplot(\"dependents\", data=df, ax=axes[1,0],palette=\"Set2\")\n",
        "sns.countplot(\"senior\", data=df, ax=axes[1,1],palette=\"Set2\")"
      ]
    },
    {
      "cell_type": "markdown",
      "id": "b885cfda",
      "metadata": {
        "id": "b885cfda"
      },
      "source": [
        "It is better to check how the target variable (churn) changes according to the binary features.Let’s see if churn rate is different for gender , partner, dependents, senior. we can see that gender column does not make an impact on the class column since for males and females their percentage is same. however other features make solid impact since their percentage differs a lot."
      ]
    },
    {
      "cell_type": "code",
      "execution_count": null,
      "id": "489598e4",
      "metadata": {
        "id": "489598e4",
        "outputId": "0de5b6f0-bcb8-4c98-e156-f43017a27d35"
      },
      "outputs": [
        {
          "name": "stdout",
          "output_type": "stream",
          "text": [
            "           Class\n",
            "gender          \n",
            "0       0.291173\n",
            "1       0.294638\n",
            "            Class\n",
            "partner          \n",
            "0        0.431699\n",
            "1        0.178437\n",
            "               Class\n",
            "dependents          \n",
            "0           0.682003\n",
            "1           0.184240\n",
            "           Class\n",
            "senior          \n",
            "0       0.282925\n",
            "1       0.342430\n"
          ]
        }
      ],
      "source": [
        "print(df[['gender','Class']].groupby(['gender']).mean())\n",
        "print(df[['partner','Class']].groupby(['partner']).mean())\n",
        "print(df[['dependents','Class']].groupby(['dependents']).mean())\n",
        "print(df[['senior','Class']].groupby(['senior']).mean())"
      ]
    },
    {
      "cell_type": "markdown",
      "id": "dc44a37e",
      "metadata": {
        "id": "dc44a37e"
      },
      "source": [
        "## Now we will explore continuous variable data\n"
      ]
    },
    {
      "cell_type": "code",
      "execution_count": null,
      "id": "250fb53d",
      "metadata": {
        "id": "250fb53d",
        "outputId": "7e9df725-e745-43c7-ff12-202d0c517021"
      },
      "outputs": [
        {
          "data": {
            "text/plain": [
              "Text(0.5, 1.0, 'package column countplot')"
            ]
          },
          "execution_count": 1077,
          "metadata": {},
          "output_type": "execute_result"
        },
        {
          "data": {
            "image/png": "[encoded data removed]",
            "text/plain": [
              "<Figure size 432x288 with 1 Axes>"
            ]
          },
          "metadata": {
            "needs_background": "light"
          },
          "output_type": "display_data"
        }
      ],
      "source": [
        "#lets start with package feature\n",
        "sns.countplot(\"package\", data=df,palette=\"Set2\").set_title('package column countplot')"
      ]
    },
    {
      "cell_type": "code",
      "execution_count": null,
      "id": "c991a72f",
      "metadata": {
        "id": "c991a72f",
        "outputId": "0afee907-2ab3-4043-fab5-f5f698c0dcf8"
      },
      "outputs": [
        {
          "name": "stdout",
          "output_type": "stream",
          "text": [
            "            Class\n",
            "package          \n",
            "1        0.398715\n",
            "2        0.335054\n",
            "3        0.214629\n",
            "4        0.171751\n",
            "         monthly_cost\n",
            "package              \n",
            "1           21.943024\n",
            "2           28.283015\n",
            "3           32.274880\n",
            "4           40.340113\n"
          ]
        }
      ],
      "source": [
        "print(df[['package','Class']].groupby(['package']).mean())\n",
        "print(df[['package','monthly_cost']].groupby(['package']).mean())"
      ]
    },
    {
      "cell_type": "markdown",
      "id": "a5cbcd76",
      "metadata": {
        "id": "a5cbcd76"
      },
      "source": [
        "package column is very important in predicting churn rate, as you can see we have most of the customers for package 1 followed by 2,4,3. however if we look at the churn rate of it we see that customers which have package 1 and 2 are most likely to churn although their mothly charges are lowest. Whereas, for the package 3 and package 4, there are almost 50% less chances that they will churn and their prices for package are almost double."
      ]
    },
    {
      "cell_type": "code",
      "execution_count": null,
      "id": "feddc6b0",
      "metadata": {
        "id": "feddc6b0",
        "outputId": "4dff1438-9586-485b-dde3-836a0780635e"
      },
      "outputs": [
        {
          "data": {
            "text/plain": [
              "Text(0.5, 1.0, 'survey column countplot')"
            ]
          },
          "execution_count": 1079,
          "metadata": {},
          "output_type": "execute_result"
        },
        {
          "data": {
            "image/png": "[encoded data removed]",
            "text/plain": [
              "<Figure size 432x288 with 1 Axes>"
            ]
          },
          "metadata": {
            "needs_background": "light"
          },
          "output_type": "display_data"
        }
      ],
      "source": [
        "#lets look for survey feature\n",
        "sns.countplot(\"survey\", data=df,palette=\"Set2\").set_title('survey column countplot')"
      ]
    },
    {
      "cell_type": "code",
      "execution_count": null,
      "id": "b70ea1d5",
      "metadata": {
        "id": "b70ea1d5",
        "outputId": "a559066e-38b8-4db1-8d9d-0f102e5ed6f0"
      },
      "outputs": [
        {
          "name": "stdout",
          "output_type": "stream",
          "text": [
            "           Class\n",
            "survey          \n",
            "0       0.772487\n",
            "1       0.761578\n",
            "2       0.745985\n",
            "3       0.555944\n",
            "4       0.246377\n",
            "5       0.174444\n",
            "6       0.069683\n",
            "7       0.061489\n",
            "8       0.048583\n",
            "9       0.045977\n",
            "10      0.074074\n"
          ]
        }
      ],
      "source": [
        "print(df[['survey','Class']].groupby(['survey']).mean())"
      ]
    },
    {
      "cell_type": "markdown",
      "id": "9221a849",
      "metadata": {
        "id": "9221a849"
      },
      "source": [
        "we can see that customers who have given good points in the feedback they are less likely to churn."
      ]
    },
    {
      "cell_type": "code",
      "execution_count": null,
      "id": "ddfe76bf",
      "metadata": {
        "id": "ddfe76bf",
        "outputId": "86ba6def-5b93-40e4-b836-129cb8d532ed"
      },
      "outputs": [
        {
          "data": {
            "text/plain": [
              "Text(0.5, 1.0, 'Tenure column countplot')"
            ]
          },
          "execution_count": 1081,
          "metadata": {},
          "output_type": "execute_result"
        },
        {
          "data": {
            "image/png": "[encoded data removed]",
            "text/plain": [
              "<Figure size 720x432 with 1 Axes>"
            ]
          },
          "metadata": {
            "needs_background": "light"
          },
          "output_type": "display_data"
        }
      ],
      "source": [
        "#lets explore Tenure featurre now\n",
        "plt.figure(figsize=(10, 6))\n",
        "sns.countplot(\"Tenure\", data=df,palette=\"Set2\").set_title('Tenure column countplot')"
      ]
    },
    {
      "cell_type": "code",
      "execution_count": null,
      "id": "b5e3c829",
      "metadata": {
        "id": "b5e3c829",
        "outputId": "890408a1-c754-46db-ce09-1a32f5e42295"
      },
      "outputs": [
        {
          "name": "stdout",
          "output_type": "stream",
          "text": [
            "           Class\n",
            "Tenure          \n",
            "0       0.636238\n",
            "1       0.719493\n",
            "2       0.710692\n",
            "3       0.554140\n",
            "4       0.304094\n",
            "5       0.183333\n",
            "6       0.191638\n",
            "7       0.189560\n",
            "8       0.209524\n",
            "9       0.147783\n",
            "10      0.168449\n",
            "11      0.161094\n",
            "12      0.156250\n",
            "13      0.122093\n",
            "14      0.117845\n",
            "15      0.099644\n",
            "16      0.100386\n",
            "17      0.093023\n",
            "18      0.115854\n",
            "19      0.103704\n",
            "20      0.112245\n",
            "21      0.115942\n",
            "22      0.072727\n",
            "23      0.114286\n",
            "24      0.117647\n",
            "25      0.181818\n",
            "26      0.125000\n",
            "27      0.000000\n",
            "28      0.000000\n",
            "29      0.500000\n",
            "30      0.000000\n"
          ]
        }
      ],
      "source": [
        "print(df[['Tenure','Class']].groupby(['Tenure']).mean())"
      ]
    },
    {
      "cell_type": "markdown",
      "id": "da7de282",
      "metadata": {
        "id": "da7de282"
      },
      "source": [
        "New customers like 0,1,2, year more likely to churn rather than long period customers.\n"
      ]
    },
    {
      "cell_type": "markdown",
      "id": "3183fe7e",
      "metadata": {
        "id": "3183fe7e"
      },
      "source": [
        "Let us now discuss location, monthlycharge and Tenure column."
      ]
    },
    {
      "cell_type": "markdown",
      "id": "31d35d01",
      "metadata": {
        "id": "31d35d01"
      },
      "source": [
        "According to the distribution of tenure variable, most of the customers are either pretty new or have stayed for a long time with the company.\n",
        "A similar trend is seen on MonthlyCharges. There seems to be a gap between low rates and high rates.\n",
        "Let’s check how churn rate changes according to tenure and MonthlyCharges:"
      ]
    },
    {
      "cell_type": "code",
      "execution_count": null,
      "id": "55b4c5b4",
      "metadata": {
        "id": "55b4c5b4",
        "outputId": "cf327d77-1fd7-4d34-c134-2bbd2ad301a5"
      },
      "outputs": [
        {
          "name": "stdout",
          "output_type": "stream",
          "text": [
            "          Tenure  monthly_cost\n",
            "Class                         \n",
            "0      10.482348     29.910917\n",
            "1       4.571861     30.735714\n"
          ]
        }
      ],
      "source": [
        "print(df[['Tenure','monthly_cost','Class']].groupby(['Class']).mean())"
      ]
    },
    {
      "cell_type": "markdown",
      "id": "8f99a244",
      "metadata": {
        "id": "8f99a244"
      },
      "source": [
        "It is clear that people who have been a customer for a long time tend to stay with the company. The average tenure in years for people who left the company is 5 and less.\n",
        "It seems like monthly charges also have an effect on churn rate and customers are ready to pay good amount for good service."
      ]
    },
    {
      "cell_type": "code",
      "execution_count": null,
      "id": "a7f50f73",
      "metadata": {
        "id": "a7f50f73",
        "outputId": "7355daf2-b98c-4d9e-cd2d-d881b307bcd6"
      },
      "outputs": [
        {
          "data": {
            "text/plain": [
              "Text(0.5, 1.0, 'location column countplot')"
            ]
          },
          "execution_count": 1084,
          "metadata": {},
          "output_type": "execute_result"
        },
        {
          "data": {
            "image/png": "[encoded data removed]",
            "text/plain": [
              "<Figure size 432x576 with 1 Axes>"
            ]
          },
          "metadata": {
            "needs_background": "light"
          },
          "output_type": "display_data"
        }
      ],
      "source": [
        "#lets explore location feature now\n",
        "plt.figure(figsize=(6, 8))\n",
        "sns.countplot(\"location\", data=df,palette=\"Set2\").set_title('location column countplot')"
      ]
    },
    {
      "cell_type": "code",
      "execution_count": null,
      "id": "034beb65",
      "metadata": {
        "id": "034beb65",
        "outputId": "3029053b-1564-4879-a5da-ae6385388322"
      },
      "outputs": [
        {
          "name": "stdout",
          "output_type": "stream",
          "text": [
            "          monthly_cost     Class\n",
            "location                        \n",
            "1            30.741455  0.245455\n",
            "2            29.980157  0.257218\n",
            "3            29.568156  0.236443\n",
            "4            29.766679  0.240575\n",
            "6            29.861384  0.250865\n",
            "7            30.443954  0.383834\n",
            "8            30.887211  0.214286\n",
            "9            29.557450  0.254980\n",
            "10           29.940336  0.285714\n",
            "11           29.802700  0.232068\n",
            "12           29.860168  0.243697\n",
            "13           29.904041  0.240933\n",
            "14           30.338727  0.295455\n",
            "15           32.280000  0.222222\n",
            "16           30.515848  0.287197\n",
            "17           30.288000  0.600000\n",
            "18           29.663333  0.166667\n"
          ]
        }
      ],
      "source": [
        "print(df[['location','monthly_cost','Class']].groupby(['location']).mean())"
      ]
    },
    {
      "cell_type": "code",
      "execution_count": null,
      "id": "a8a5d0f9",
      "metadata": {
        "id": "a8a5d0f9"
      },
      "outputs": [],
      "source": [
        "df.head()\n",
        "df.drop(['customer_id'], axis=1, inplace=True)"
      ]
    },
    {
      "cell_type": "markdown",
      "id": "0b6a724e",
      "metadata": {
        "id": "0b6a724e"
      },
      "source": [
        "# 3. Data Preprocessing"
      ]
    },
    {
      "cell_type": "code",
      "execution_count": null,
      "id": "1fd18837",
      "metadata": {
        "id": "1fd18837",
        "outputId": "7b12bf59-307e-4346-f3b5-4190311c43b8"
      },
      "outputs": [
        {
          "name": "stdout",
          "output_type": "stream",
          "text": [
            "[0.02236592 0.11346045 0.06219658 0.15791658 0.06470434 0.18824694\n",
            " 0.03159042 0.27192449 0.08759428] Index(['gender', 'location', 'partner', 'dependents', 'senior', 'Tenure',\n",
            "       'package', 'survey', 'monthly_cost'],\n",
            "      dtype='object')\n"
          ]
        },
        {
          "data": {
            "image/png": "[encoded data removed]",
            "text/plain": [
              "<Figure size 576x432 with 1 Axes>"
            ]
          },
          "metadata": {
            "needs_background": "light"
          },
          "output_type": "display_data"
        }
      ],
      "source": [
        "from sklearn import metrics\n",
        "from sklearn.ensemble import ExtraTreesClassifier\n",
        "# fit an Extra Trees model to the data\n",
        "\n",
        "model = ExtraTreesClassifier()\n",
        "model.fit(df.drop('Class', axis=1), df['Class'])\n",
        "# display the relative importance of each attribute\n",
        "print(model.feature_importances_, df.drop('Class', axis=1).columns)\n",
        "plt.figure(figsize=(8,6))\n",
        "feat_importances = pd.Series(model.feature_importances_, index=df.drop('Class', axis=1).columns)\n",
        "feat_importances.nlargest(15).plot(kind='barh')\n",
        "plt.title(\"Feature importance plot\")\n",
        "plt.xlabel(\"Importance score\")\n",
        "plt.ylabel(\"Featue name\")\n",
        "plt.show()"
      ]
    },
    {
      "cell_type": "code",
      "execution_count": null,
      "id": "59ffcdae",
      "metadata": {
        "id": "59ffcdae"
      },
      "outputs": [],
      "source": [
        "df.drop(['gender'], axis=1, inplace=True)"
      ]
    },
    {
      "cell_type": "code",
      "execution_count": null,
      "id": "0e949cd8",
      "metadata": {
        "id": "0e949cd8",
        "outputId": "ba1cf0ee-2a76-469e-90d5-8dc124acc963"
      },
      "outputs": [
        {
          "data": {
            "text/html": [
              "<div>\n",
              "<style scoped>\n",
              "    .dataframe tbody tr th:only-of-type {\n",
              "        vertical-align: middle;\n",
              "    }\n",
              "\n",
              "    .dataframe tbody tr th {\n",
              "        vertical-align: top;\n",
              "    }\n",
              "\n",
              "    .dataframe thead th {\n",
              "        text-align: right;\n",
              "    }\n",
              "</style>\n",
              "<table border=\"1\" class=\"dataframe\">\n",
              "  <thead>\n",
              "    <tr style=\"text-align: right;\">\n",
              "      <th></th>\n",
              "      <th>location</th>\n",
              "      <th>partner</th>\n",
              "      <th>dependents</th>\n",
              "      <th>senior</th>\n",
              "      <th>Tenure</th>\n",
              "      <th>package</th>\n",
              "      <th>survey</th>\n",
              "      <th>Class</th>\n",
              "      <th>monthly_cost</th>\n",
              "    </tr>\n",
              "  </thead>\n",
              "  <tbody>\n",
              "    <tr>\n",
              "      <th>0</th>\n",
              "      <td>1</td>\n",
              "      <td>0</td>\n",
              "      <td>1</td>\n",
              "      <td>0</td>\n",
              "      <td>20</td>\n",
              "      <td>2</td>\n",
              "      <td>0</td>\n",
              "      <td>0</td>\n",
              "      <td>20.40</td>\n",
              "    </tr>\n",
              "    <tr>\n",
              "      <th>1</th>\n",
              "      <td>2</td>\n",
              "      <td>0</td>\n",
              "      <td>1</td>\n",
              "      <td>0</td>\n",
              "      <td>4</td>\n",
              "      <td>1</td>\n",
              "      <td>5</td>\n",
              "      <td>0</td>\n",
              "      <td>23.92</td>\n",
              "    </tr>\n",
              "    <tr>\n",
              "      <th>2</th>\n",
              "      <td>2</td>\n",
              "      <td>0</td>\n",
              "      <td>1</td>\n",
              "      <td>1</td>\n",
              "      <td>9</td>\n",
              "      <td>2</td>\n",
              "      <td>0</td>\n",
              "      <td>0</td>\n",
              "      <td>27.88</td>\n",
              "    </tr>\n",
              "    <tr>\n",
              "      <th>3</th>\n",
              "      <td>3</td>\n",
              "      <td>1</td>\n",
              "      <td>1</td>\n",
              "      <td>1</td>\n",
              "      <td>9</td>\n",
              "      <td>4</td>\n",
              "      <td>9</td>\n",
              "      <td>0</td>\n",
              "      <td>41.00</td>\n",
              "    </tr>\n",
              "    <tr>\n",
              "      <th>4</th>\n",
              "      <td>4</td>\n",
              "      <td>0</td>\n",
              "      <td>1</td>\n",
              "      <td>0</td>\n",
              "      <td>6</td>\n",
              "      <td>2</td>\n",
              "      <td>5</td>\n",
              "      <td>0</td>\n",
              "      <td>29.92</td>\n",
              "    </tr>\n",
              "  </tbody>\n",
              "</table>\n",
              "</div>"
            ],
            "text/plain": [
              "   location  partner  dependents  senior  Tenure  package  survey  Class  \\\n",
              "0         1        0           1       0      20        2       0      0   \n",
              "1         2        0           1       0       4        1       5      0   \n",
              "2         2        0           1       1       9        2       0      0   \n",
              "3         3        1           1       1       9        4       9      0   \n",
              "4         4        0           1       0       6        2       5      0   \n",
              "\n",
              "   monthly_cost  \n",
              "0         20.40  \n",
              "1         23.92  \n",
              "2         27.88  \n",
              "3         41.00  \n",
              "4         29.92  "
            ]
          },
          "execution_count": 1089,
          "metadata": {},
          "output_type": "execute_result"
        }
      ],
      "source": [
        "#importing libraries for encoding\n",
        "from sklearn.preprocessing import LabelEncoder, OneHotEncoder\n",
        "#importing libraries for data normalization\n",
        "from sklearn.preprocessing import MinMaxScaler\n",
        "df.head()"
      ]
    },
    {
      "cell_type": "code",
      "execution_count": null,
      "id": "6520fbc3",
      "metadata": {
        "id": "6520fbc3",
        "outputId": "96718ffb-9be6-47b9-bbfb-aac247b84ca5"
      },
      "outputs": [
        {
          "data": {
            "text/html": [
              "<div>\n",
              "<style scoped>\n",
              "    .dataframe tbody tr th:only-of-type {\n",
              "        vertical-align: middle;\n",
              "    }\n",
              "\n",
              "    .dataframe tbody tr th {\n",
              "        vertical-align: top;\n",
              "    }\n",
              "\n",
              "    .dataframe thead th {\n",
              "        text-align: right;\n",
              "    }\n",
              "</style>\n",
              "<table border=\"1\" class=\"dataframe\">\n",
              "  <thead>\n",
              "    <tr style=\"text-align: right;\">\n",
              "      <th></th>\n",
              "      <th>partner</th>\n",
              "      <th>dependents</th>\n",
              "      <th>senior</th>\n",
              "      <th>Tenure</th>\n",
              "      <th>package</th>\n",
              "      <th>survey</th>\n",
              "      <th>Class</th>\n",
              "      <th>monthly_cost</th>\n",
              "      <th>location_2</th>\n",
              "      <th>location_3</th>\n",
              "      <th>...</th>\n",
              "      <th>location_9</th>\n",
              "      <th>location_10</th>\n",
              "      <th>location_11</th>\n",
              "      <th>location_12</th>\n",
              "      <th>location_13</th>\n",
              "      <th>location_14</th>\n",
              "      <th>location_15</th>\n",
              "      <th>location_16</th>\n",
              "      <th>location_17</th>\n",
              "      <th>location_18</th>\n",
              "    </tr>\n",
              "  </thead>\n",
              "  <tbody>\n",
              "    <tr>\n",
              "      <th>0</th>\n",
              "      <td>0</td>\n",
              "      <td>1</td>\n",
              "      <td>0</td>\n",
              "      <td>20</td>\n",
              "      <td>2</td>\n",
              "      <td>0</td>\n",
              "      <td>0</td>\n",
              "      <td>20.40</td>\n",
              "      <td>0</td>\n",
              "      <td>0</td>\n",
              "      <td>...</td>\n",
              "      <td>0</td>\n",
              "      <td>0</td>\n",
              "      <td>0</td>\n",
              "      <td>0</td>\n",
              "      <td>0</td>\n",
              "      <td>0</td>\n",
              "      <td>0</td>\n",
              "      <td>0</td>\n",
              "      <td>0</td>\n",
              "      <td>0</td>\n",
              "    </tr>\n",
              "    <tr>\n",
              "      <th>1</th>\n",
              "      <td>0</td>\n",
              "      <td>1</td>\n",
              "      <td>0</td>\n",
              "      <td>4</td>\n",
              "      <td>1</td>\n",
              "      <td>5</td>\n",
              "      <td>0</td>\n",
              "      <td>23.92</td>\n",
              "      <td>1</td>\n",
              "      <td>0</td>\n",
              "      <td>...</td>\n",
              "      <td>0</td>\n",
              "      <td>0</td>\n",
              "      <td>0</td>\n",
              "      <td>0</td>\n",
              "      <td>0</td>\n",
              "      <td>0</td>\n",
              "      <td>0</td>\n",
              "      <td>0</td>\n",
              "      <td>0</td>\n",
              "      <td>0</td>\n",
              "    </tr>\n",
              "    <tr>\n",
              "      <th>2</th>\n",
              "      <td>0</td>\n",
              "      <td>1</td>\n",
              "      <td>1</td>\n",
              "      <td>9</td>\n",
              "      <td>2</td>\n",
              "      <td>0</td>\n",
              "      <td>0</td>\n",
              "      <td>27.88</td>\n",
              "      <td>1</td>\n",
              "      <td>0</td>\n",
              "      <td>...</td>\n",
              "      <td>0</td>\n",
              "      <td>0</td>\n",
              "      <td>0</td>\n",
              "      <td>0</td>\n",
              "      <td>0</td>\n",
              "      <td>0</td>\n",
              "      <td>0</td>\n",
              "      <td>0</td>\n",
              "      <td>0</td>\n",
              "      <td>0</td>\n",
              "    </tr>\n",
              "    <tr>\n",
              "      <th>3</th>\n",
              "      <td>1</td>\n",
              "      <td>1</td>\n",
              "      <td>1</td>\n",
              "      <td>9</td>\n",
              "      <td>4</td>\n",
              "      <td>9</td>\n",
              "      <td>0</td>\n",
              "      <td>41.00</td>\n",
              "      <td>0</td>\n",
              "      <td>1</td>\n",
              "      <td>...</td>\n",
              "      <td>0</td>\n",
              "      <td>0</td>\n",
              "      <td>0</td>\n",
              "      <td>0</td>\n",
              "      <td>0</td>\n",
              "      <td>0</td>\n",
              "      <td>0</td>\n",
              "      <td>0</td>\n",
              "      <td>0</td>\n",
              "      <td>0</td>\n",
              "    </tr>\n",
              "    <tr>\n",
              "      <th>4</th>\n",
              "      <td>0</td>\n",
              "      <td>1</td>\n",
              "      <td>0</td>\n",
              "      <td>6</td>\n",
              "      <td>2</td>\n",
              "      <td>5</td>\n",
              "      <td>0</td>\n",
              "      <td>29.92</td>\n",
              "      <td>0</td>\n",
              "      <td>0</td>\n",
              "      <td>...</td>\n",
              "      <td>0</td>\n",
              "      <td>0</td>\n",
              "      <td>0</td>\n",
              "      <td>0</td>\n",
              "      <td>0</td>\n",
              "      <td>0</td>\n",
              "      <td>0</td>\n",
              "      <td>0</td>\n",
              "      <td>0</td>\n",
              "      <td>0</td>\n",
              "    </tr>\n",
              "  </tbody>\n",
              "</table>\n",
              "<p>5 rows × 24 columns</p>\n",
              "</div>"
            ],
            "text/plain": [
              "   partner  dependents  senior  Tenure  package  survey  Class  monthly_cost  \\\n",
              "0        0           1       0      20        2       0      0         20.40   \n",
              "1        0           1       0       4        1       5      0         23.92   \n",
              "2        0           1       1       9        2       0      0         27.88   \n",
              "3        1           1       1       9        4       9      0         41.00   \n",
              "4        0           1       0       6        2       5      0         29.92   \n",
              "\n",
              "   location_2  location_3  ...  location_9  location_10  location_11  \\\n",
              "0           0           0  ...           0            0            0   \n",
              "1           1           0  ...           0            0            0   \n",
              "2           1           0  ...           0            0            0   \n",
              "3           0           1  ...           0            0            0   \n",
              "4           0           0  ...           0            0            0   \n",
              "\n",
              "   location_12  location_13  location_14  location_15  location_16  \\\n",
              "0            0            0            0            0            0   \n",
              "1            0            0            0            0            0   \n",
              "2            0            0            0            0            0   \n",
              "3            0            0            0            0            0   \n",
              "4            0            0            0            0            0   \n",
              "\n",
              "   location_17  location_18  \n",
              "0            0            0  \n",
              "1            0            0  \n",
              "2            0            0  \n",
              "3            0            0  \n",
              "4            0            0  \n",
              "\n",
              "[5 rows x 24 columns]"
            ]
          },
          "execution_count": 1090,
          "metadata": {},
          "output_type": "execute_result"
        }
      ],
      "source": [
        "#Encoding location column:\n",
        "cat_features = ['location']\n",
        "X = pd.get_dummies(df, columns=cat_features, drop_first=True)\n",
        "X.head()"
      ]
    },
    {
      "cell_type": "code",
      "execution_count": null,
      "id": "07c95e22",
      "metadata": {
        "id": "07c95e22",
        "outputId": "fb0e9ea2-9c18-4de3-9021-3a7335d6aa1d"
      },
      "outputs": [
        {
          "data": {
            "text/plain": [
              "(6770, 25)"
            ]
          },
          "execution_count": 1091,
          "metadata": {},
          "output_type": "execute_result"
        }
      ],
      "source": [
        "#Scaling continuous variables:\n",
        "sc = MinMaxScaler()\n",
        "t = sc.fit_transform(df[['Tenure']])\n",
        "m = sc.fit_transform(df[['monthly_cost']])\n",
        "s = sc.fit_transform(df[['survey']])\n",
        "X['tenure'] = t\n",
        "X['monthly_cost'] = m\n",
        "X['survey'] = s\n",
        "X.shape"
      ]
    },
    {
      "cell_type": "code",
      "execution_count": null,
      "id": "1a2b23f8",
      "metadata": {
        "id": "1a2b23f8",
        "outputId": "19f1c3f9-bb1f-4a5b-f53a-5ed17325c4b5"
      },
      "outputs": [
        {
          "data": {
            "text/html": [
              "<div>\n",
              "<style scoped>\n",
              "    .dataframe tbody tr th:only-of-type {\n",
              "        vertical-align: middle;\n",
              "    }\n",
              "\n",
              "    .dataframe tbody tr th {\n",
              "        vertical-align: top;\n",
              "    }\n",
              "\n",
              "    .dataframe thead th {\n",
              "        text-align: right;\n",
              "    }\n",
              "</style>\n",
              "<table border=\"1\" class=\"dataframe\">\n",
              "  <thead>\n",
              "    <tr style=\"text-align: right;\">\n",
              "      <th></th>\n",
              "      <th>partner</th>\n",
              "      <th>dependents</th>\n",
              "      <th>senior</th>\n",
              "      <th>Tenure</th>\n",
              "      <th>package</th>\n",
              "      <th>survey</th>\n",
              "      <th>Class</th>\n",
              "      <th>monthly_cost</th>\n",
              "      <th>location_2</th>\n",
              "      <th>location_3</th>\n",
              "      <th>...</th>\n",
              "      <th>location_10</th>\n",
              "      <th>location_11</th>\n",
              "      <th>location_12</th>\n",
              "      <th>location_13</th>\n",
              "      <th>location_14</th>\n",
              "      <th>location_15</th>\n",
              "      <th>location_16</th>\n",
              "      <th>location_17</th>\n",
              "      <th>location_18</th>\n",
              "      <th>tenure</th>\n",
              "    </tr>\n",
              "  </thead>\n",
              "  <tbody>\n",
              "    <tr>\n",
              "      <th>0</th>\n",
              "      <td>0</td>\n",
              "      <td>1</td>\n",
              "      <td>0</td>\n",
              "      <td>20</td>\n",
              "      <td>2</td>\n",
              "      <td>0.0</td>\n",
              "      <td>0</td>\n",
              "      <td>0.200000</td>\n",
              "      <td>0</td>\n",
              "      <td>0</td>\n",
              "      <td>...</td>\n",
              "      <td>0</td>\n",
              "      <td>0</td>\n",
              "      <td>0</td>\n",
              "      <td>0</td>\n",
              "      <td>0</td>\n",
              "      <td>0</td>\n",
              "      <td>0</td>\n",
              "      <td>0</td>\n",
              "      <td>0</td>\n",
              "      <td>0.666667</td>\n",
              "    </tr>\n",
              "    <tr>\n",
              "      <th>1</th>\n",
              "      <td>0</td>\n",
              "      <td>1</td>\n",
              "      <td>0</td>\n",
              "      <td>4</td>\n",
              "      <td>1</td>\n",
              "      <td>0.5</td>\n",
              "      <td>0</td>\n",
              "      <td>0.295135</td>\n",
              "      <td>1</td>\n",
              "      <td>0</td>\n",
              "      <td>...</td>\n",
              "      <td>0</td>\n",
              "      <td>0</td>\n",
              "      <td>0</td>\n",
              "      <td>0</td>\n",
              "      <td>0</td>\n",
              "      <td>0</td>\n",
              "      <td>0</td>\n",
              "      <td>0</td>\n",
              "      <td>0</td>\n",
              "      <td>0.133333</td>\n",
              "    </tr>\n",
              "    <tr>\n",
              "      <th>2</th>\n",
              "      <td>0</td>\n",
              "      <td>1</td>\n",
              "      <td>1</td>\n",
              "      <td>9</td>\n",
              "      <td>2</td>\n",
              "      <td>0.0</td>\n",
              "      <td>0</td>\n",
              "      <td>0.402162</td>\n",
              "      <td>1</td>\n",
              "      <td>0</td>\n",
              "      <td>...</td>\n",
              "      <td>0</td>\n",
              "      <td>0</td>\n",
              "      <td>0</td>\n",
              "      <td>0</td>\n",
              "      <td>0</td>\n",
              "      <td>0</td>\n",
              "      <td>0</td>\n",
              "      <td>0</td>\n",
              "      <td>0</td>\n",
              "      <td>0.300000</td>\n",
              "    </tr>\n",
              "    <tr>\n",
              "      <th>3</th>\n",
              "      <td>1</td>\n",
              "      <td>1</td>\n",
              "      <td>1</td>\n",
              "      <td>9</td>\n",
              "      <td>4</td>\n",
              "      <td>0.9</td>\n",
              "      <td>0</td>\n",
              "      <td>0.756757</td>\n",
              "      <td>0</td>\n",
              "      <td>1</td>\n",
              "      <td>...</td>\n",
              "      <td>0</td>\n",
              "      <td>0</td>\n",
              "      <td>0</td>\n",
              "      <td>0</td>\n",
              "      <td>0</td>\n",
              "      <td>0</td>\n",
              "      <td>0</td>\n",
              "      <td>0</td>\n",
              "      <td>0</td>\n",
              "      <td>0.300000</td>\n",
              "    </tr>\n",
              "    <tr>\n",
              "      <th>4</th>\n",
              "      <td>0</td>\n",
              "      <td>1</td>\n",
              "      <td>0</td>\n",
              "      <td>6</td>\n",
              "      <td>2</td>\n",
              "      <td>0.5</td>\n",
              "      <td>0</td>\n",
              "      <td>0.457297</td>\n",
              "      <td>0</td>\n",
              "      <td>0</td>\n",
              "      <td>...</td>\n",
              "      <td>0</td>\n",
              "      <td>0</td>\n",
              "      <td>0</td>\n",
              "      <td>0</td>\n",
              "      <td>0</td>\n",
              "      <td>0</td>\n",
              "      <td>0</td>\n",
              "      <td>0</td>\n",
              "      <td>0</td>\n",
              "      <td>0.200000</td>\n",
              "    </tr>\n",
              "  </tbody>\n",
              "</table>\n",
              "<p>5 rows × 25 columns</p>\n",
              "</div>"
            ],
            "text/plain": [
              "   partner  dependents  senior  Tenure  package  survey  Class  monthly_cost  \\\n",
              "0        0           1       0      20        2     0.0      0      0.200000   \n",
              "1        0           1       0       4        1     0.5      0      0.295135   \n",
              "2        0           1       1       9        2     0.0      0      0.402162   \n",
              "3        1           1       1       9        4     0.9      0      0.756757   \n",
              "4        0           1       0       6        2     0.5      0      0.457297   \n",
              "\n",
              "   location_2  location_3  ...  location_10  location_11  location_12  \\\n",
              "0           0           0  ...            0            0            0   \n",
              "1           1           0  ...            0            0            0   \n",
              "2           1           0  ...            0            0            0   \n",
              "3           0           1  ...            0            0            0   \n",
              "4           0           0  ...            0            0            0   \n",
              "\n",
              "   location_13  location_14  location_15  location_16  location_17  \\\n",
              "0            0            0            0            0            0   \n",
              "1            0            0            0            0            0   \n",
              "2            0            0            0            0            0   \n",
              "3            0            0            0            0            0   \n",
              "4            0            0            0            0            0   \n",
              "\n",
              "   location_18    tenure  \n",
              "0            0  0.666667  \n",
              "1            0  0.133333  \n",
              "2            0  0.300000  \n",
              "3            0  0.300000  \n",
              "4            0  0.200000  \n",
              "\n",
              "[5 rows x 25 columns]"
            ]
          },
          "execution_count": 1092,
          "metadata": {},
          "output_type": "execute_result"
        }
      ],
      "source": [
        "#Data after encoding and normalization\n",
        "X.head()"
      ]
    },
    {
      "cell_type": "code",
      "execution_count": null,
      "id": "d74486d9",
      "metadata": {
        "id": "d74486d9",
        "outputId": "5b93f9af-1ad8-4d34-c7df-8f0fde55eb77"
      },
      "outputs": [
        {
          "data": {
            "text/plain": [
              "Text(0.5, 1.0, 'Class Distribution Before Resampling')"
            ]
          },
          "execution_count": 1093,
          "metadata": {},
          "output_type": "execute_result"
        },
        {
          "data": {
            "image/png": "[encoded data removed]",
            "text/plain": [
              "<Figure size 432x288 with 1 Axes>"
            ]
          },
          "metadata": {
            "needs_background": "light"
          },
          "output_type": "display_data"
        }
      ],
      "source": [
        "#Resampling\n",
        "sns.countplot('Class', data=df,palette=\"Set2\").set_title('Class Distribution Before Resampling')"
      ]
    },
    {
      "cell_type": "code",
      "execution_count": null,
      "id": "ce1431d2",
      "metadata": {
        "id": "ce1431d2",
        "outputId": "41376fed-7da3-4e45-b4a9-7535d73b7908"
      },
      "outputs": [
        {
          "name": "stdout",
          "output_type": "stream",
          "text": [
            "4787\n"
          ]
        },
        {
          "data": {
            "text/plain": [
              "Text(0.5, 1.0, 'Class Distribution After Resampling')"
            ]
          },
          "execution_count": 1094,
          "metadata": {},
          "output_type": "execute_result"
        },
        {
          "data": {
            "image/png": "[encoded data removed]",
            "text/plain": [
              "<Figure size 432x288 with 1 Axes>"
            ]
          },
          "metadata": {
            "needs_background": "light"
          },
          "output_type": "display_data"
        }
      ],
      "source": [
        "#Separating positive class (churn=yes) and negative class (churn=no):\n",
        "X_no = X[X.Class == 0]\n",
        "X_yes = X[X.Class == 1]\n",
        "#Upsampling the positive class:\n",
        "X_yes_upsampled = X_yes.sample(n=len(X_no), replace=True, random_state=42)\n",
        "print(len(X_yes_upsampled))\n",
        "#Combining positive and negative class and checking class distribution:\n",
        "X_upsampled = X_no.append(X_yes_upsampled).reset_index(drop=True)\n",
        "sns.countplot('Class', data=X_upsampled,palette=\"Set2\").set_title('Class Distribution After Resampling')"
      ]
    },
    {
      "cell_type": "markdown",
      "id": "1e61a2a6",
      "metadata": {
        "id": "1e61a2a6"
      },
      "source": [
        "# 4. Developing and testing machine learning models"
      ]
    },
    {
      "cell_type": "markdown",
      "id": "ea9ce4b5",
      "metadata": {
        "id": "ea9ce4b5"
      },
      "source": [
        "We need to divide the dataset into training and test subsets so that we are able to measure the performance of our model on new, previously unseen examples.\n",
        "\n"
      ]
    },
    {
      "cell_type": "code",
      "execution_count": null,
      "id": "0838852c",
      "metadata": {
        "id": "0838852c"
      },
      "outputs": [],
      "source": [
        "from sklearn.model_selection import train_test_split\n",
        "X = X_upsampled.drop(['Class'], axis=1) #features (independent variables)\n",
        "y = X_upsampled['Class'] #target (dependent variable)"
      ]
    },
    {
      "cell_type": "code",
      "execution_count": null,
      "id": "c53c7edb",
      "metadata": {
        "colab": {
          "base_uri": "https://localhost:8080/",
          "height": 246
        },
        "id": "c53c7edb",
        "outputId": "42d7ea59-a709-435c-864d-856e193c3e80"
      },
      "outputs": [
        {
          "output_type": "error",
          "ename": "NameError",
          "evalue": "ignored",
          "traceback": [
            "\u001b[0;31m---------------------------------------------------------------------------\u001b[0m",
            "\u001b[0;31mNameError\u001b[0m                                 Traceback (most recent call last)",
            "\u001b[0;32m<ipython-input-1-0d67c375e4dc>\u001b[0m in \u001b[0;36m<module>\u001b[0;34m\u001b[0m\n\u001b[1;32m      1\u001b[0m \u001b[0;31m#diving into train and test\u001b[0m\u001b[0;34m\u001b[0m\u001b[0;34m\u001b[0m\u001b[0m\n\u001b[0;32m----> 2\u001b[0;31m \u001b[0mX_train\u001b[0m\u001b[0;34m,\u001b[0m \u001b[0mX_test\u001b[0m\u001b[0;34m,\u001b[0m \u001b[0my_train\u001b[0m\u001b[0;34m,\u001b[0m \u001b[0my_test\u001b[0m \u001b[0;34m=\u001b[0m \u001b[0mtrain_test_split\u001b[0m\u001b[0;34m(\u001b[0m\u001b[0mX\u001b[0m\u001b[0;34m,\u001b[0m \u001b[0my\u001b[0m\u001b[0;34m,\u001b[0m \u001b[0mtest_size\u001b[0m \u001b[0;34m=\u001b[0m \u001b[0;36m0.2\u001b[0m\u001b[0;34m,\u001b[0m \u001b[0mrandom_state\u001b[0m\u001b[0;34m=\u001b[0m\u001b[0;36m42\u001b[0m\u001b[0;34m)\u001b[0m\u001b[0;34m\u001b[0m\u001b[0;34m\u001b[0m\u001b[0m\n\u001b[0m\u001b[1;32m      3\u001b[0m \u001b[0mfig\u001b[0m\u001b[0;34m,\u001b[0m \u001b[0max\u001b[0m\u001b[0;34m=\u001b[0m\u001b[0mplt\u001b[0m\u001b[0;34m.\u001b[0m\u001b[0msubplots\u001b[0m\u001b[0;34m(\u001b[0m\u001b[0mfigsize\u001b[0m\u001b[0;34m=\u001b[0m\u001b[0;34m(\u001b[0m\u001b[0;36m9\u001b[0m\u001b[0;34m,\u001b[0m \u001b[0;36m4\u001b[0m\u001b[0;34m)\u001b[0m\u001b[0;34m)\u001b[0m\u001b[0;34m\u001b[0m\u001b[0;34m\u001b[0m\u001b[0m\n\u001b[1;32m      4\u001b[0m \u001b[0mX_train\u001b[0m\u001b[0;34m.\u001b[0m\u001b[0mplot\u001b[0m\u001b[0;34m(\u001b[0m\u001b[0max\u001b[0m\u001b[0;34m=\u001b[0m\u001b[0max\u001b[0m\u001b[0;34m,\u001b[0m \u001b[0mlabel\u001b[0m\u001b[0;34m=\u001b[0m\u001b[0;34m'train'\u001b[0m\u001b[0;34m)\u001b[0m\u001b[0;34m\u001b[0m\u001b[0;34m\u001b[0m\u001b[0m\n\u001b[1;32m      5\u001b[0m \u001b[0mX_test\u001b[0m\u001b[0;34m.\u001b[0m\u001b[0mplot\u001b[0m\u001b[0;34m(\u001b[0m\u001b[0max\u001b[0m\u001b[0;34m=\u001b[0m\u001b[0max\u001b[0m\u001b[0;34m,\u001b[0m \u001b[0mlabel\u001b[0m\u001b[0;34m=\u001b[0m\u001b[0;34m'test'\u001b[0m\u001b[0;34m)\u001b[0m\u001b[0;34m\u001b[0m\u001b[0;34m\u001b[0m\u001b[0m\n",
            "\u001b[0;31mNameError\u001b[0m: name 'train_test_split' is not defined"
          ]
        }
      ],
      "source": [
        "#diving into train and test\n",
        "X_train, X_test, y_train, y_test = train_test_split(X, y, test_size = 0.2, random_state=42)\n",
        "fig, ax=plt.subplots(figsize=(9, 4))\n",
        "X_train.plot(ax=ax, label='train')\n",
        "X_test.plot(ax=ax, label='test')\n",
        "ax.legend();"
      ]
    },
    {
      "cell_type": "code",
      "execution_count": null,
      "id": "2131b462",
      "metadata": {
        "id": "2131b462"
      },
      "outputs": [],
      "source": [
        "from sklearn.neighbors import KNeighborsClassifier\n",
        "from sklearn.linear_model import LogisticRegression\n",
        "from sklearn.svm import SVC\n",
        "from sklearn.ensemble import RandomForestClassifier\n",
        "from sklearn.ensemble import GradientBoostingClassifier"
      ]
    },
    {
      "cell_type": "markdown",
      "id": "496e9d77",
      "metadata": {
        "id": "496e9d77"
      },
      "source": [
        "### K_nearest _neighbor"
      ]
    },
    {
      "cell_type": "code",
      "execution_count": null,
      "id": "29769045",
      "metadata": {
        "id": "29769045",
        "outputId": "ad5b4554-cf4d-42f1-b996-e3240193a32a"
      },
      "outputs": [
        {
          "name": "stdout",
          "output_type": "stream",
          "text": [
            "              precision    recall  f1-score   support\n",
            "\n",
            "           0       0.87      0.85      0.86       987\n",
            "           1       0.84      0.87      0.86       928\n",
            "\n",
            "    accuracy                           0.86      1915\n",
            "   macro avg       0.86      0.86      0.86      1915\n",
            "weighted avg       0.86      0.86      0.86      1915\n",
            "\n"
          ]
        }
      ],
      "source": [
        "knb = KNeighborsClassifier()\n",
        "knb.fit(X_train, y_train)\n",
        "# print best parameter after tuning\n",
        "# make the predictions\n",
        "knb_pred = knb.predict(X_test)\n",
        "# construct the confusion matrix\n",
        "from sklearn.metrics import confusion_matrix\n",
        "confusion_matrix = confusion_matrix(y_test, knb_pred)\n",
        "# print classification report\n",
        "from sklearn.metrics import classification_report\n",
        "print(classification_report(y_test, knb_pred))"
      ]
    },
    {
      "cell_type": "code",
      "execution_count": null,
      "id": "b8ae5b58",
      "metadata": {
        "id": "b8ae5b58",
        "outputId": "24ed4cc9-8b16-4b52-b3c6-0a90fc42edb5"
      },
      "outputs": [
        {
          "data": {
            "text/plain": [
              "Text(0.5, 8.5, 'Predicted label\\n')"
            ]
          },
          "execution_count": 1099,
          "metadata": {},
          "output_type": "execute_result"
        },
        {
          "data": {
            "text/plain": [
              "<Figure size 2016x1440 with 0 Axes>"
            ]
          },
          "metadata": {},
          "output_type": "display_data"
        },
        {
          "data": {
            "image/png": "[encoded data removed]",
            "text/plain": [
              "<Figure size 432x288 with 2 Axes>"
            ]
          },
          "metadata": {
            "needs_background": "light"
          },
          "output_type": "display_data"
        }
      ],
      "source": [
        "#visualize Confusion Matrix:\n",
        "pd.crosstab(y_test,pd.Series(knb_pred),\n",
        "rownames=['ACTUAL'],colnames=['PRED'])\n",
        "# cm = confusion_matrix(y_test, Gbc_pred)\n",
        "df_cm = pd.DataFrame(confusion_matrix, index = (0, 1), columns = (0, 1))\n",
        "plt.figure(figsize = (28,20))\n",
        "fig, ax = plt.subplots()\n",
        "sns.set(font_scale=1.4)\n",
        "sns.heatmap(df_cm, annot=True, fmt='g',cmap=\"YlGnBu\")\n",
        "class_names=[0,1]\n",
        "tick_marks = np.arange(len(class_names))\n",
        "plt.tight_layout()\n",
        "plt.title('Confusion matrix KNeighborsClassifier\\n', y=1.1)\n",
        "plt.xticks(tick_marks, class_names)\n",
        "plt.yticks(tick_marks, class_names)\n",
        "ax.xaxis.set_label_position(\"top\")\n",
        "plt.ylabel('Actual label\\n')\n",
        "plt.xlabel('Predicted label\\n')"
      ]
    },
    {
      "cell_type": "markdown",
      "id": "54896ba4",
      "metadata": {
        "id": "54896ba4"
      },
      "source": [
        "### Logistic regression"
      ]
    },
    {
      "cell_type": "code",
      "execution_count": null,
      "id": "035d2153",
      "metadata": {
        "id": "035d2153",
        "outputId": "c0cdeba8-31aa-4268-b483-2cbc8f028e62"
      },
      "outputs": [
        {
          "name": "stdout",
          "output_type": "stream",
          "text": [
            "              precision    recall  f1-score   support\n",
            "\n",
            "           0       0.88      0.87      0.87       987\n",
            "           1       0.86      0.87      0.86       928\n",
            "\n",
            "    accuracy                           0.87      1915\n",
            "   macro avg       0.87      0.87      0.87      1915\n",
            "weighted avg       0.87      0.87      0.87      1915\n",
            "\n"
          ]
        }
      ],
      "source": [
        "Lg = LogisticRegression()\n",
        "Lg.fit(X_train, y_train)\n",
        "# make the predictions\n",
        "Lg_pred = Lg.predict(X_test)\n",
        "# construct the confusion matrix\n",
        "from sklearn.metrics import confusion_matrix\n",
        "confusion_matrix = confusion_matrix(y_test, Lg_pred)\n",
        "# print classification report\n",
        "from sklearn.metrics import classification_report\n",
        "print(classification_report(y_test, Lg_pred))"
      ]
    },
    {
      "cell_type": "code",
      "execution_count": null,
      "id": "cc9c7165",
      "metadata": {
        "id": "cc9c7165",
        "outputId": "6f12fdc3-18d8-4f52-864b-3a8719ea4f23"
      },
      "outputs": [
        {
          "data": {
            "text/plain": [
              "Text(0.5, 8.5, 'Predicted label\\n')"
            ]
          },
          "execution_count": 1101,
          "metadata": {},
          "output_type": "execute_result"
        },
        {
          "data": {
            "text/plain": [
              "<Figure size 2016x1440 with 0 Axes>"
            ]
          },
          "metadata": {},
          "output_type": "display_data"
        },
        {
          "data": {
            "image/png": "[encoded data removed]",
            "text/plain": [
              "<Figure size 432x288 with 2 Axes>"
            ]
          },
          "metadata": {},
          "output_type": "display_data"
        }
      ],
      "source": [
        "#visualize Confusion Matrix:\n",
        "pd.crosstab(y_test,pd.Series(Lg_pred),\n",
        "rownames=['ACTUAL'],colnames=['PRED'])\n",
        "# cm = confusion_matrix(y_test, Gbc_pred)\n",
        "df_cm = pd.DataFrame(confusion_matrix, index = (0, 1), columns = (0, 1))\n",
        "plt.figure(figsize = (28,20))\n",
        "fig, ax = plt.subplots()\n",
        "sns.set(font_scale=1.4)\n",
        "sns.heatmap(df_cm, annot=True, fmt='g',cmap=\"YlGnBu\")\n",
        "class_names=[0,1]\n",
        "tick_marks = np.arange(len(class_names))\n",
        "plt.tight_layout()\n",
        "plt.title('Confusion matrix LogisticRegression\\n', y=1.1)\n",
        "plt.xticks(tick_marks, class_names)\n",
        "plt.yticks(tick_marks, class_names)\n",
        "ax.xaxis.set_label_position(\"top\")\n",
        "plt.ylabel('Actual label\\n')\n",
        "plt.xlabel('Predicted label\\n')"
      ]
    },
    {
      "cell_type": "markdown",
      "id": "cc5efa8a",
      "metadata": {
        "id": "cc5efa8a"
      },
      "source": [
        "### SVC"
      ]
    },
    {
      "cell_type": "code",
      "execution_count": null,
      "id": "6759f3b8",
      "metadata": {
        "id": "6759f3b8",
        "outputId": "c14e23ed-0e73-48ae-fbd8-10130c645c9e"
      },
      "outputs": [
        {
          "name": "stdout",
          "output_type": "stream",
          "text": [
            "              precision    recall  f1-score   support\n",
            "\n",
            "           0       0.86      0.87      0.87       987\n",
            "           1       0.86      0.85      0.86       928\n",
            "\n",
            "    accuracy                           0.86      1915\n",
            "   macro avg       0.86      0.86      0.86      1915\n",
            "weighted avg       0.86      0.86      0.86      1915\n",
            "\n"
          ]
        }
      ],
      "source": [
        "Svc = SVC()\n",
        "Svc.fit(X_train, y_train)\n",
        "# make the predictions\n",
        "Svc_pred = Svc.predict(X_test)\n",
        "# construct the confusion matrix\n",
        "from sklearn.metrics import confusion_matrix\n",
        "confusion_matrix = confusion_matrix(y_test, Svc_pred)\n",
        "# print classification report\n",
        "from sklearn.metrics import classification_report\n",
        "print(classification_report(y_test, Svc_pred))"
      ]
    },
    {
      "cell_type": "code",
      "execution_count": null,
      "id": "1420fc63",
      "metadata": {
        "id": "1420fc63",
        "outputId": "e2c2c37f-4559-4ad3-d928-213aeec9df34"
      },
      "outputs": [
        {
          "data": {
            "text/plain": [
              "Text(0.5, 8.5, 'Predicted label\\n')"
            ]
          },
          "execution_count": 1103,
          "metadata": {},
          "output_type": "execute_result"
        },
        {
          "data": {
            "text/plain": [
              "<Figure size 2016x1440 with 0 Axes>"
            ]
          },
          "metadata": {},
          "output_type": "display_data"
        },
        {
          "data": {
            "image/png": "[encoded data removed]",
            "text/plain": [
              "<Figure size 432x288 with 2 Axes>"
            ]
          },
          "metadata": {},
          "output_type": "display_data"
        }
      ],
      "source": [
        "#visualize Confusion Matrix:\n",
        "pd.crosstab(y_test,pd.Series(Svc_pred),\n",
        "rownames=['ACTUAL'],colnames=['PRED'])\n",
        "# cm = confusion_matrix(y_test, Gbc_pred)\n",
        "df_cm = pd.DataFrame(confusion_matrix, index = (0, 1), columns = (0, 1))\n",
        "plt.figure(figsize = (28,20))\n",
        "fig, ax = plt.subplots()\n",
        "sns.set(font_scale=1.4)\n",
        "sns.heatmap(df_cm, annot=True, fmt='g',cmap=\"YlGnBu\")\n",
        "class_names=[0,1]\n",
        "tick_marks = np.arange(len(class_names))\n",
        "plt.tight_layout()\n",
        "plt.title('Confusion matrix SVC\\n', y=1.1)\n",
        "plt.xticks(tick_marks, class_names)\n",
        "plt.yticks(tick_marks, class_names)\n",
        "ax.xaxis.set_label_position(\"top\")\n",
        "plt.ylabel('Actual label\\n')\n",
        "plt.xlabel('Predicted label\\n')"
      ]
    },
    {
      "cell_type": "markdown",
      "id": "435d65a4",
      "metadata": {
        "id": "435d65a4"
      },
      "source": [
        "### Random Forest Classifier"
      ]
    },
    {
      "cell_type": "code",
      "execution_count": null,
      "id": "ecf62a76",
      "metadata": {
        "id": "ecf62a76",
        "outputId": "a3bfae89-597b-4814-f617-f77ef9bc3861"
      },
      "outputs": [
        {
          "name": "stdout",
          "output_type": "stream",
          "text": [
            "              precision    recall  f1-score   support\n",
            "\n",
            "           0       0.96      0.91      0.94       987\n",
            "           1       0.91      0.96      0.93       928\n",
            "\n",
            "    accuracy                           0.94      1915\n",
            "   macro avg       0.94      0.94      0.94      1915\n",
            "weighted avg       0.94      0.94      0.94      1915\n",
            "\n"
          ]
        }
      ],
      "source": [
        "Rfc = RandomForestClassifier()\n",
        "Rfc.fit(X_train, y_train)\n",
        "# make the predictions\n",
        "Rfc_pred = Rfc.predict(X_test)\n",
        "# construct the confusion matrix\n",
        "from sklearn.metrics import confusion_matrix\n",
        "confusion_matrix = confusion_matrix(y_test, Rfc_pred)\n",
        "# print classification report\n",
        "from sklearn.metrics import classification_report\n",
        "print(classification_report(y_test, Rfc_pred))"
      ]
    },
    {
      "cell_type": "code",
      "execution_count": null,
      "id": "0cbcee54",
      "metadata": {
        "id": "0cbcee54",
        "outputId": "e3d9b90e-8ccc-4672-f9e3-548ca8f5b5d6"
      },
      "outputs": [
        {
          "data": {
            "text/plain": [
              "Text(0.5, 8.5, 'Predicted label\\n')"
            ]
          },
          "execution_count": 1105,
          "metadata": {},
          "output_type": "execute_result"
        },
        {
          "data": {
            "text/plain": [
              "<Figure size 2016x1440 with 0 Axes>"
            ]
          },
          "metadata": {},
          "output_type": "display_data"
        },
        {
          "data": {
            "image/png": "[encoded data removed]",
            "text/plain": [
              "<Figure size 432x288 with 2 Axes>"
            ]
          },
          "metadata": {},
          "output_type": "display_data"
        }
      ],
      "source": [
        "#visualize Confusion Matrix:\n",
        "pd.crosstab(y_test,pd.Series(Rfc_pred),\n",
        "rownames=['ACTUAL'],colnames=['PRED'])\n",
        "# cm = confusion_matrix(y_test, Gbc_pred)\n",
        "df_cm = pd.DataFrame(confusion_matrix, index = (0, 1), columns = (0, 1))\n",
        "plt.figure(figsize = (28,20))\n",
        "fig, ax = plt.subplots()\n",
        "sns.set(font_scale=1.4)\n",
        "sns.heatmap(df_cm, annot=True, fmt='g',cmap=\"YlGnBu\")\n",
        "class_names=[0,1]\n",
        "tick_marks = np.arange(len(class_names))\n",
        "plt.tight_layout()\n",
        "plt.title('Confusion matrix RandomForestClassifier\\n', y=1.1)\n",
        "plt.xticks(tick_marks, class_names)\n",
        "plt.yticks(tick_marks, class_names)\n",
        "ax.xaxis.set_label_position(\"top\")\n",
        "plt.ylabel('Actual label\\n')\n",
        "plt.xlabel('Predicted label\\n')"
      ]
    },
    {
      "cell_type": "markdown",
      "id": "33f3340c",
      "metadata": {
        "id": "33f3340c"
      },
      "source": [
        "### GradientBoostingClassifier"
      ]
    },
    {
      "cell_type": "code",
      "execution_count": null,
      "id": "b9b2985f",
      "metadata": {
        "id": "b9b2985f",
        "outputId": "2f880d04-cd06-49d6-d4ab-7bdb23ee5598"
      },
      "outputs": [
        {
          "name": "stdout",
          "output_type": "stream",
          "text": [
            "              precision    recall  f1-score   support\n",
            "\n",
            "           0       0.90      0.91      0.90       987\n",
            "           1       0.90      0.89      0.90       928\n",
            "\n",
            "    accuracy                           0.90      1915\n",
            "   macro avg       0.90      0.90      0.90      1915\n",
            "weighted avg       0.90      0.90      0.90      1915\n",
            "\n"
          ]
        }
      ],
      "source": [
        "Gbc = GradientBoostingClassifier()\n",
        "Gbc.fit(X_train, y_train)\n",
        "# make the predictions\n",
        "Gbc_pred = Gbc.predict(X_test)\n",
        "# construct the confusion matrix\n",
        "from sklearn.metrics import confusion_matrix\n",
        "confusion_matrix = confusion_matrix(y_test, Gbc_pred)\n",
        "# print classification report\n",
        "from sklearn.metrics import classification_report\n",
        "print(classification_report(y_test, Gbc_pred))"
      ]
    },
    {
      "cell_type": "code",
      "execution_count": null,
      "id": "dda7e350",
      "metadata": {
        "id": "dda7e350",
        "outputId": "3eaa9f88-f8d1-472f-d36f-dffd758484f1"
      },
      "outputs": [
        {
          "data": {
            "text/plain": [
              "Text(0.5, 8.5, 'Predicted label\\n')"
            ]
          },
          "execution_count": 1107,
          "metadata": {},
          "output_type": "execute_result"
        },
        {
          "data": {
            "text/plain": [
              "<Figure size 2016x1440 with 0 Axes>"
            ]
          },
          "metadata": {},
          "output_type": "display_data"
        },
        {
          "data": {
            "image/png": "[encoded data removed]",
            "text/plain": [
              "<Figure size 432x288 with 2 Axes>"
            ]
          },
          "metadata": {},
          "output_type": "display_data"
        }
      ],
      "source": [
        "#visualize Confusion Matrix:\n",
        "pd.crosstab(y_test,pd.Series(Gbc_pred),\n",
        "rownames=['ACTUAL'],colnames=['PRED'])\n",
        "df_cm = pd.DataFrame(confusion_matrix, index = (0, 1), columns = (0, 1))\n",
        "plt.figure(figsize = (28,20))\n",
        "fig, ax = plt.subplots()\n",
        "sns.set(font_scale=1.4)\n",
        "sns.heatmap(df_cm, annot=True, fmt='g',cmap=\"YlGnBu\")\n",
        "class_names=[0,1]\n",
        "tick_marks = np.arange(len(class_names))\n",
        "plt.tight_layout()\n",
        "plt.title('Confusion matrix GradientBoostingClassifier\\n', y=1.1)\n",
        "plt.xticks(tick_marks, class_names)\n",
        "plt.yticks(tick_marks, class_names)\n",
        "ax.xaxis.set_label_position(\"top\")\n",
        "plt.ylabel('Actual label\\n')\n",
        "plt.xlabel('Predicted label\\n')"
      ]
    },
    {
      "cell_type": "code",
      "execution_count": null,
      "id": "914ce435",
      "metadata": {
        "id": "914ce435"
      },
      "outputs": [],
      "source": []
    }
  ],
  "metadata": {
    "kernelspec": {
      "display_name": "Python 3 (ipykernel)",
      "language": "python",
      "name": "python3"
    },
    "language_info": {
      "codemirror_mode": {
        "name": "ipython",
        "version": 3
      },
      "file_extension": ".py",
      "mimetype": "text/x-python",
      "name": "python",
      "nbconvert_exporter": "python",
      "pygments_lexer": "ipython3",
      "version": "3.9.7"
    },
    "colab": {
      "provenance": []
    }
  },
  "nbformat": 4,
  "nbformat_minor": 5
}